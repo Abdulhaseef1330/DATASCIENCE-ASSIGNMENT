{
  "nbformat": 4,
  "nbformat_minor": 0,
  "metadata": {
    "colab": {
      "provenance": [],
      "gpuType": "T4"
    },
    "kernelspec": {
      "name": "python3",
      "display_name": "Python 3"
    },
    "language_info": {
      "name": "python"
    },
    "accelerator": "GPU"
  },
  "cells": [
    {
      "cell_type": "code",
      "execution_count": null,
      "metadata": {
        "colab": {
          "base_uri": "https://localhost:8080/"
        },
        "id": "oypEBl_r9nu9",
        "outputId": "61528a1a-4328-4392-a8ff-467f6a8e6910"
      },
      "outputs": [
        {
          "output_type": "stream",
          "name": "stdout",
          "text": [
            "Collecting contractions\n",
            "  Downloading contractions-0.1.73-py2.py3-none-any.whl.metadata (1.2 kB)\n",
            "Collecting textsearch>=0.0.21 (from contractions)\n",
            "  Downloading textsearch-0.0.24-py2.py3-none-any.whl.metadata (1.2 kB)\n",
            "Collecting anyascii (from textsearch>=0.0.21->contractions)\n",
            "  Downloading anyascii-0.3.2-py3-none-any.whl.metadata (1.5 kB)\n",
            "Collecting pyahocorasick (from textsearch>=0.0.21->contractions)\n",
            "  Downloading pyahocorasick-2.1.0-cp310-cp310-manylinux_2_5_x86_64.manylinux1_x86_64.manylinux_2_12_x86_64.manylinux2010_x86_64.whl.metadata (13 kB)\n",
            "Downloading contractions-0.1.73-py2.py3-none-any.whl (8.7 kB)\n",
            "Downloading textsearch-0.0.24-py2.py3-none-any.whl (7.6 kB)\n",
            "Downloading anyascii-0.3.2-py3-none-any.whl (289 kB)\n",
            "\u001b[2K   \u001b[90m━━━━━━━━━━━━━━━━━━━━━━━━━━━━━━━━━━━━━━━━\u001b[0m \u001b[32m289.9/289.9 kB\u001b[0m \u001b[31m7.7 MB/s\u001b[0m eta \u001b[36m0:00:00\u001b[0m\n",
            "\u001b[?25hDownloading pyahocorasick-2.1.0-cp310-cp310-manylinux_2_5_x86_64.manylinux1_x86_64.manylinux_2_12_x86_64.manylinux2010_x86_64.whl (110 kB)\n",
            "\u001b[2K   \u001b[90m━━━━━━━━━━━━━━━━━━━━━━━━━━━━━━━━━━━━━━━━\u001b[0m \u001b[32m110.7/110.7 kB\u001b[0m \u001b[31m8.8 MB/s\u001b[0m eta \u001b[36m0:00:00\u001b[0m\n",
            "\u001b[?25hInstalling collected packages: pyahocorasick, anyascii, textsearch, contractions\n",
            "Successfully installed anyascii-0.3.2 contractions-0.1.73 pyahocorasick-2.1.0 textsearch-0.0.24\n",
            "Requirement already satisfied: textsearch in /usr/local/lib/python3.10/dist-packages (0.0.24)\n",
            "Requirement already satisfied: anyascii in /usr/local/lib/python3.10/dist-packages (from textsearch) (0.3.2)\n",
            "Requirement already satisfied: pyahocorasick in /usr/local/lib/python3.10/dist-packages (from textsearch) (2.1.0)\n",
            "Requirement already satisfied: tqdm in /usr/local/lib/python3.10/dist-packages (4.66.5)\n"
          ]
        },
        {
          "output_type": "stream",
          "name": "stderr",
          "text": [
            "[nltk_data] Downloading package punkt to /root/nltk_data...\n",
            "[nltk_data]   Unzipping tokenizers/punkt.zip.\n"
          ]
        },
        {
          "output_type": "execute_result",
          "data": {
            "text/plain": [
              "True"
            ]
          },
          "metadata": {},
          "execution_count": 1
        }
      ],
      "source": [
        "!pip install contractions\n",
        "!pip install textsearch\n",
        "!pip install tqdm\n",
        "import nltk\n",
        "nltk.download('punkt')"
      ]
    },
    {
      "cell_type": "code",
      "source": [
        "import pandas as pd\n",
        "from bs4 import BeautifulSoup\n",
        "import numpy as np\n",
        "import re\n",
        "import tqdm\n",
        "import unicodedata\n",
        "\n",
        "dataset = pd.read_csv(\"/content/movie_reviews (1).csv\")\n",
        "dataset.info()"
      ],
      "metadata": {
        "colab": {
          "base_uri": "https://localhost:8080/"
        },
        "id": "Tqg7m2zb9oTb",
        "outputId": "6975787e-315b-4ff9-fa79-83e16f6bc553"
      },
      "execution_count": null,
      "outputs": [
        {
          "output_type": "stream",
          "name": "stdout",
          "text": [
            "<class 'pandas.core.frame.DataFrame'>\n",
            "RangeIndex: 50000 entries, 0 to 49999\n",
            "Data columns (total 2 columns):\n",
            " #   Column     Non-Null Count  Dtype \n",
            "---  ------     --------------  ----- \n",
            " 0   review     50000 non-null  object\n",
            " 1   sentiment  50000 non-null  object\n",
            "dtypes: object(2)\n",
            "memory usage: 781.4+ KB\n"
          ]
        }
      ]
    },
    {
      "cell_type": "code",
      "source": [
        "def strip_html_tags(text):\n",
        "    soup = BeautifulSoup(text,'html.parser')\n",
        "    stripped_text = soup.get_text()\n",
        "    stripper_text = re.sub(r'[\\r|\\n |\\r\\n]+','\\n',stripped_text)\n",
        "    return stripped_text\n"
      ],
      "metadata": {
        "id": "YvFVV9D59oV0"
      },
      "execution_count": null,
      "outputs": []
    },
    {
      "cell_type": "code",
      "source": [
        "strip_html_tags(dataset['review'][20])"
      ],
      "metadata": {
        "colab": {
          "base_uri": "https://localhost:8080/",
          "height": 88
        },
        "id": "xIzLk5cO9oX_",
        "outputId": "cfb65101-f516-4e16-ff92-f9b2f995ac50"
      },
      "execution_count": null,
      "outputs": [
        {
          "output_type": "execute_result",
          "data": {
            "text/plain": [
              "\"After the success of Die Hard and it's sequels it's no surprise really that in the 1990s, a glut of 'Die Hard on a .....' movies cashed in on the wrong guy, wrong place, wrong time concept. That is what they did with Cliffhanger, Die Hard on a mountain just in time to rescue Sly 'Stop or My Mom Will Shoot' Stallone's career.Cliffhanger is one big nit-pickers dream, especially to those who are expert at mountain climbing, base-jumping, aviation, facial expressions, acting skills. All in all it's full of excuses to dismiss the film as one overblown pile of junk. Stallone even managed to get out-acted by a horse! However, if you an forget all the nonsense, it's actually a very lovable and undeniably entertaining romp that delivers as plenty of thrills, and unintentionally, plenty of laughs.You've got to love John Lithgows sneery evilness, his tick every box band of baddies, and best of all, the permanently harassed and hapless 'turncoat' agent, Rex Linn as Travers.He may of been Henry in 'Portrait of a Serial Killer' but Michael Rooker is noteworthy for a cringe-worthy performance as Hal, he insists on constantly shrieking in painful disbelief at his captors 'that man never hurt anybody' And whilst he surely can't be, it really does look like Ralph Waite's Frank character is grinning as the girl plummets to her death.Mention too must go to former 'London's Burning' actor Craig Fairbrass as the Brit bad guy, who comes a cropper whilst using Hal as a Human Football, yes, you can't help enjoy that bit, Hal needed a good kicking.So forget your better judgement, who cares if 'that could never happen', lower your acting expectations, turn up the volume and enjoy! And if you're looking for Qaulen, he's the one wearing the helicopter.\""
            ],
            "application/vnd.google.colaboratory.intrinsic+json": {
              "type": "string"
            }
          },
          "metadata": {},
          "execution_count": 4
        }
      ]
    },
    {
      "cell_type": "code",
      "source": [
        "def remove_accented_character(text):\n",
        "    text = unicodedata.normalize(\"NFKD\",text).encode(\"ascii\",'ignore').decode(\"utf-8\",\"ignore\")\n",
        "    return text"
      ],
      "metadata": {
        "id": "cHVcGWbx9obq"
      },
      "execution_count": null,
      "outputs": []
    },
    {
      "cell_type": "code",
      "source": [
        "remove_accented_character(\"áü\")"
      ],
      "metadata": {
        "colab": {
          "base_uri": "https://localhost:8080/",
          "height": 36
        },
        "id": "AO2LTJEa9odt",
        "outputId": "80a72728-ca40-437a-9e75-e5c0085d532a"
      },
      "execution_count": null,
      "outputs": [
        {
          "output_type": "execute_result",
          "data": {
            "text/plain": [
              "'au'"
            ],
            "application/vnd.google.colaboratory.intrinsic+json": {
              "type": "string"
            }
          },
          "metadata": {},
          "execution_count": 6
        }
      ]
    },
    {
      "cell_type": "code",
      "source": [
        "def pre_process_corpus(texts):\n",
        "    preprocessed_text = []\n",
        "    for doc in tqdm.tqdm(texts):\n",
        "      doc = strip_html_tags (doc)\n",
        "      #doc = doc.translate(doc.maketrans(\"\\n\\t\\r\",'   '))\n",
        "      doc = doc.lower()\n",
        "      doc = remove_accented_character(doc)\n",
        "      #doc = contractions.fix(doc)\n",
        "      doc = re.sub(r'[^a-zA-Z0-9\\s]','',doc,flags=re.I | re.A)\n",
        "      doc = re.sub(r' +',' ',doc)\n",
        "      doc = doc.strip()\n",
        "      preprocessed_text.append(doc)\n",
        "    return preprocessed_text"
      ],
      "metadata": {
        "id": "kmwUnGcL9oin"
      },
      "execution_count": null,
      "outputs": []
    },
    {
      "cell_type": "code",
      "source": [
        "reviews =  dataset['review'].values\n",
        "sentiment =  dataset['sentiment'].values\n",
        "\n",
        "train_reviews = reviews[:35000]\n",
        "train_sentiment = sentiment[:35000]\n",
        "\n",
        "test_reviews = reviews[35000:]\n",
        "test_sentiment = sentiment[35000:]"
      ],
      "metadata": {
        "id": "-gkU31SS_Nkw"
      },
      "execution_count": null,
      "outputs": []
    },
    {
      "cell_type": "code",
      "source": [
        "%%time\n",
        "norm_train_reviews =  pre_process_corpus(train_reviews)\n",
        "norm_test_reviews =  pre_process_corpus(test_reviews)"
      ],
      "metadata": {
        "colab": {
          "base_uri": "https://localhost:8080/"
        },
        "id": "gcfrZb2T_Nhu",
        "outputId": "70ec848b-0544-41ef-aea7-0c3880026fa9"
      },
      "execution_count": null,
      "outputs": [
        {
          "output_type": "stream",
          "name": "stderr",
          "text": [
            "  2%|▏         | 725/35000 [00:00<00:41, 831.93it/s]<ipython-input-3-b62a4dd031b3>:2: MarkupResemblesLocatorWarning: The input looks more like a filename than markup. You may want to open this file and pass the filehandle into Beautiful Soup.\n",
            "  soup = BeautifulSoup(text,'html.parser')\n",
            "100%|██████████| 35000/35000 [00:13<00:00, 2576.31it/s]\n",
            "100%|██████████| 15000/15000 [00:05<00:00, 2562.69it/s]"
          ]
        },
        {
          "output_type": "stream",
          "name": "stdout",
          "text": [
            "CPU times: user 18.5 s, sys: 137 ms, total: 18.7 s\n",
            "Wall time: 19.5 s\n"
          ]
        },
        {
          "output_type": "stream",
          "name": "stderr",
          "text": [
            "\n"
          ]
        }
      ]
    },
    {
      "cell_type": "code",
      "source": [
        "import tensorflow as tf\n",
        "\n",
        "t = tf.keras.preprocessing.text.Tokenizer(filters='!\"#$%&()*+,-./:;<=>?@[\\\\]^_`{|}~',oov_token='UNK')\n",
        "t.fit_on_texts(norm_train_reviews)"
      ],
      "metadata": {
        "id": "BQXJy050_NWt"
      },
      "execution_count": null,
      "outputs": []
    },
    {
      "cell_type": "code",
      "source": [
        "t.word_index['UNK']=0"
      ],
      "metadata": {
        "id": "nuHdIiB7_NUf"
      },
      "execution_count": null,
      "outputs": []
    },
    {
      "cell_type": "code",
      "source": [
        "train_sequences = t.texts_to_sequences(norm_train_reviews)\n",
        "test_sequences = t.texts_to_sequences(norm_test_reviews)\n"
      ],
      "metadata": {
        "id": "Z1AqQ_M__NSl"
      },
      "execution_count": null,
      "outputs": []
    },
    {
      "cell_type": "code",
      "source": [
        "len(t.word_index)"
      ],
      "metadata": {
        "colab": {
          "base_uri": "https://localhost:8080/"
        },
        "id": "Nrb646av_NOA",
        "outputId": "0be8dc07-fb49-4af4-d1dc-03033382844d"
      },
      "execution_count": null,
      "outputs": [
        {
          "output_type": "execute_result",
          "data": {
            "text/plain": [
              "176885"
            ]
          },
          "metadata": {},
          "execution_count": 13
        }
      ]
    },
    {
      "cell_type": "code",
      "source": [
        "t.document_count"
      ],
      "metadata": {
        "colab": {
          "base_uri": "https://localhost:8080/"
        },
        "id": "hOTjsEWxBXBE",
        "outputId": "1d2a34d8-80e5-4731-9aca-9a6fde5d4574"
      },
      "execution_count": null,
      "outputs": [
        {
          "output_type": "execute_result",
          "data": {
            "text/plain": [
              "35000"
            ]
          },
          "metadata": {},
          "execution_count": 14
        }
      ]
    },
    {
      "cell_type": "code",
      "source": [
        "MAX_SEQUENCES_LENGTH = 1000"
      ],
      "metadata": {
        "id": "tLlk_TMKBuP3"
      },
      "execution_count": null,
      "outputs": []
    },
    {
      "cell_type": "code",
      "source": [
        "X_train = tf.keras.preprocessing.sequence.pad_sequences(train_sequences,maxlen=MAX_SEQUENCES_LENGTH)\n",
        "X_test = tf.keras.preprocessing.sequence.pad_sequences(test_sequences,maxlen=MAX_SEQUENCES_LENGTH)\n",
        "\n"
      ],
      "metadata": {
        "id": "JEBapwL0BuNg"
      },
      "execution_count": null,
      "outputs": []
    },
    {
      "cell_type": "code",
      "source": [
        "from sklearn.preprocessing import LabelEncoder\n",
        "le = LabelEncoder()\n",
        "num_classes = 2\n"
      ],
      "metadata": {
        "id": "awUzloaIBuLG"
      },
      "execution_count": null,
      "outputs": []
    },
    {
      "cell_type": "code",
      "source": [
        "y_train = le.fit_transform(train_sentiment)\n",
        "y_test = le.transform(test_sentiment)"
      ],
      "metadata": {
        "id": "w6qNs4UWBuIe"
      },
      "execution_count": null,
      "outputs": []
    },
    {
      "cell_type": "code",
      "source": [
        "VOCAB_SIZE = len(t.word_index)"
      ],
      "metadata": {
        "id": "p2xxgxItBW-R"
      },
      "execution_count": null,
      "outputs": []
    },
    {
      "cell_type": "code",
      "source": [
        "EMBEDDING_DIM = 300"
      ],
      "metadata": {
        "id": "ziTXCEzwBW7Y"
      },
      "execution_count": null,
      "outputs": []
    },
    {
      "cell_type": "code",
      "source": [
        "#GRU\n",
        "model = tf.keras.models.Sequential()\n",
        "model.add(tf.keras.layers.Embedding(input_dim = VOCAB_SIZE,output_dim = EMBEDDING_DIM,input_length = MAX_SEQUENCES_LENGTH))\n",
        "model.add(tf.keras.layers.GRU(128,return_sequences=False))\n",
        "model.add(tf.keras.layers.Dense(256,activation = 'relu'))\n",
        "model.add(tf.keras.layers.Dense(1,activation = 'sigmoid'))\n",
        "\n",
        "model.compile(loss = 'binary_crossentropy',optimizer = 'adam',metrics = ['accuracy'])\n"
      ],
      "metadata": {
        "colab": {
          "base_uri": "https://localhost:8080/"
        },
        "id": "Rksvxh1mBW3L",
        "outputId": "94147ed5-139d-435f-dc4f-abd796193b4a"
      },
      "execution_count": null,
      "outputs": [
        {
          "output_type": "stream",
          "name": "stderr",
          "text": [
            "/usr/local/lib/python3.10/dist-packages/keras/src/layers/core/embedding.py:90: UserWarning: Argument `input_length` is deprecated. Just remove it.\n",
            "  warnings.warn(\n"
          ]
        }
      ]
    },
    {
      "cell_type": "code",
      "source": [
        "model.summary()"
      ],
      "metadata": {
        "colab": {
          "base_uri": "https://localhost:8080/",
          "height": 261
        },
        "id": "TvUaf7nnGylv",
        "outputId": "5d45d95f-8a62-48c0-bec7-4edd6048f650"
      },
      "execution_count": null,
      "outputs": [
        {
          "output_type": "display_data",
          "data": {
            "text/plain": [
              "\u001b[1mModel: \"sequential\"\u001b[0m\n"
            ],
            "text/html": [
              "<pre style=\"white-space:pre;overflow-x:auto;line-height:normal;font-family:Menlo,'DejaVu Sans Mono',consolas,'Courier New',monospace\"><span style=\"font-weight: bold\">Model: \"sequential\"</span>\n",
              "</pre>\n"
            ]
          },
          "metadata": {}
        },
        {
          "output_type": "display_data",
          "data": {
            "text/plain": [
              "┏━━━━━━━━━━━━━━━━━━━━━━━━━━━━━━━━━━━━━━┳━━━━━━━━━━━━━━━━━━━━━━━━━━━━━┳━━━━━━━━━━━━━━━━━┓\n",
              "┃\u001b[1m \u001b[0m\u001b[1mLayer (type)                        \u001b[0m\u001b[1m \u001b[0m┃\u001b[1m \u001b[0m\u001b[1mOutput Shape               \u001b[0m\u001b[1m \u001b[0m┃\u001b[1m \u001b[0m\u001b[1m        Param #\u001b[0m\u001b[1m \u001b[0m┃\n",
              "┡━━━━━━━━━━━━━━━━━━━━━━━━━━━━━━━━━━━━━━╇━━━━━━━━━━━━━━━━━━━━━━━━━━━━━╇━━━━━━━━━━━━━━━━━┩\n",
              "│ embedding (\u001b[38;5;33mEmbedding\u001b[0m)                │ ?                           │     \u001b[38;5;34m0\u001b[0m (unbuilt) │\n",
              "├──────────────────────────────────────┼─────────────────────────────┼─────────────────┤\n",
              "│ gru (\u001b[38;5;33mGRU\u001b[0m)                            │ ?                           │     \u001b[38;5;34m0\u001b[0m (unbuilt) │\n",
              "├──────────────────────────────────────┼─────────────────────────────┼─────────────────┤\n",
              "│ dense (\u001b[38;5;33mDense\u001b[0m)                        │ ?                           │     \u001b[38;5;34m0\u001b[0m (unbuilt) │\n",
              "├──────────────────────────────────────┼─────────────────────────────┼─────────────────┤\n",
              "│ dense_1 (\u001b[38;5;33mDense\u001b[0m)                      │ ?                           │     \u001b[38;5;34m0\u001b[0m (unbuilt) │\n",
              "└──────────────────────────────────────┴─────────────────────────────┴─────────────────┘\n"
            ],
            "text/html": [
              "<pre style=\"white-space:pre;overflow-x:auto;line-height:normal;font-family:Menlo,'DejaVu Sans Mono',consolas,'Courier New',monospace\">┏━━━━━━━━━━━━━━━━━━━━━━━━━━━━━━━━━━━━━━┳━━━━━━━━━━━━━━━━━━━━━━━━━━━━━┳━━━━━━━━━━━━━━━━━┓\n",
              "┃<span style=\"font-weight: bold\"> Layer (type)                         </span>┃<span style=\"font-weight: bold\"> Output Shape                </span>┃<span style=\"font-weight: bold\">         Param # </span>┃\n",
              "┡━━━━━━━━━━━━━━━━━━━━━━━━━━━━━━━━━━━━━━╇━━━━━━━━━━━━━━━━━━━━━━━━━━━━━╇━━━━━━━━━━━━━━━━━┩\n",
              "│ embedding (<span style=\"color: #0087ff; text-decoration-color: #0087ff\">Embedding</span>)                │ ?                           │     <span style=\"color: #00af00; text-decoration-color: #00af00\">0</span> (unbuilt) │\n",
              "├──────────────────────────────────────┼─────────────────────────────┼─────────────────┤\n",
              "│ gru (<span style=\"color: #0087ff; text-decoration-color: #0087ff\">GRU</span>)                            │ ?                           │     <span style=\"color: #00af00; text-decoration-color: #00af00\">0</span> (unbuilt) │\n",
              "├──────────────────────────────────────┼─────────────────────────────┼─────────────────┤\n",
              "│ dense (<span style=\"color: #0087ff; text-decoration-color: #0087ff\">Dense</span>)                        │ ?                           │     <span style=\"color: #00af00; text-decoration-color: #00af00\">0</span> (unbuilt) │\n",
              "├──────────────────────────────────────┼─────────────────────────────┼─────────────────┤\n",
              "│ dense_1 (<span style=\"color: #0087ff; text-decoration-color: #0087ff\">Dense</span>)                      │ ?                           │     <span style=\"color: #00af00; text-decoration-color: #00af00\">0</span> (unbuilt) │\n",
              "└──────────────────────────────────────┴─────────────────────────────┴─────────────────┘\n",
              "</pre>\n"
            ]
          },
          "metadata": {}
        },
        {
          "output_type": "display_data",
          "data": {
            "text/plain": [
              "\u001b[1m Total params: \u001b[0m\u001b[38;5;34m0\u001b[0m (0.00 B)\n"
            ],
            "text/html": [
              "<pre style=\"white-space:pre;overflow-x:auto;line-height:normal;font-family:Menlo,'DejaVu Sans Mono',consolas,'Courier New',monospace\"><span style=\"font-weight: bold\"> Total params: </span><span style=\"color: #00af00; text-decoration-color: #00af00\">0</span> (0.00 B)\n",
              "</pre>\n"
            ]
          },
          "metadata": {}
        },
        {
          "output_type": "display_data",
          "data": {
            "text/plain": [
              "\u001b[1m Trainable params: \u001b[0m\u001b[38;5;34m0\u001b[0m (0.00 B)\n"
            ],
            "text/html": [
              "<pre style=\"white-space:pre;overflow-x:auto;line-height:normal;font-family:Menlo,'DejaVu Sans Mono',consolas,'Courier New',monospace\"><span style=\"font-weight: bold\"> Trainable params: </span><span style=\"color: #00af00; text-decoration-color: #00af00\">0</span> (0.00 B)\n",
              "</pre>\n"
            ]
          },
          "metadata": {}
        },
        {
          "output_type": "display_data",
          "data": {
            "text/plain": [
              "\u001b[1m Non-trainable params: \u001b[0m\u001b[38;5;34m0\u001b[0m (0.00 B)\n"
            ],
            "text/html": [
              "<pre style=\"white-space:pre;overflow-x:auto;line-height:normal;font-family:Menlo,'DejaVu Sans Mono',consolas,'Courier New',monospace\"><span style=\"font-weight: bold\"> Non-trainable params: </span><span style=\"color: #00af00; text-decoration-color: #00af00\">0</span> (0.00 B)\n",
              "</pre>\n"
            ]
          },
          "metadata": {}
        }
      ]
    },
    {
      "cell_type": "code",
      "source": [
        "model.fit(X_train,y_train,epochs=2,batch_size=100,shuffle = True, validation_data=(X_test,y_test))"
      ],
      "metadata": {
        "colab": {
          "base_uri": "https://localhost:8080/"
        },
        "id": "xSuQbLvoGyrq",
        "outputId": "553373d7-09f9-4edd-b0e1-a3ca60c6114f"
      },
      "execution_count": null,
      "outputs": [
        {
          "output_type": "stream",
          "name": "stdout",
          "text": [
            "Epoch 1/2\n",
            "\u001b[1m350/350\u001b[0m \u001b[32m━━━━━━━━━━━━━━━━━━━━\u001b[0m\u001b[37m\u001b[0m \u001b[1m46s\u001b[0m 108ms/step - accuracy: 0.7143 - loss: 0.5266 - val_accuracy: 0.8120 - val_loss: 0.4140\n",
            "Epoch 2/2\n",
            "\u001b[1m350/350\u001b[0m \u001b[32m━━━━━━━━━━━━━━━━━━━━\u001b[0m\u001b[37m\u001b[0m \u001b[1m40s\u001b[0m 115ms/step - accuracy: 0.9197 - loss: 0.2116 - val_accuracy: 0.8734 - val_loss: 0.3077\n"
          ]
        },
        {
          "output_type": "execute_result",
          "data": {
            "text/plain": [
              "<keras.src.callbacks.history.History at 0x7916ebb2ad70>"
            ]
          },
          "metadata": {},
          "execution_count": 23
        }
      ]
    },
    {
      "cell_type": "code",
      "source": [
        "score = model.evaluate(X_test,y_test)\n",
        "print(\"Accuracy:\",score[1]*100)"
      ],
      "metadata": {
        "colab": {
          "base_uri": "https://localhost:8080/"
        },
        "id": "jcrgGNVcGyvW",
        "outputId": "78542369-b901-4a4c-9b70-92ef426679d3"
      },
      "execution_count": null,
      "outputs": [
        {
          "output_type": "stream",
          "name": "stdout",
          "text": [
            "\u001b[1m469/469\u001b[0m \u001b[32m━━━━━━━━━━━━━━━━━━━━\u001b[0m\u001b[37m\u001b[0m \u001b[1m7s\u001b[0m 15ms/step - accuracy: 0.8741 - loss: 0.3043\n",
            "Accuracy: 87.33999729156494\n"
          ]
        }
      ]
    },
    {
      "cell_type": "code",
      "source": [
        "embedding_layer = model.get_layer('embedding')"
      ],
      "metadata": {
        "id": "CGWG35L3Gyx3"
      },
      "execution_count": null,
      "outputs": []
    },
    {
      "cell_type": "code",
      "source": [
        "embedding_weights = embedding_layer.get_weights()[0]\n",
        "\n",
        "word_index = t.word_index\n",
        "word_embeddings = {}\n",
        "\n",
        "for word,idx in word_index.items():\n",
        "  if idx<VOCAB_SIZE:\n",
        "    word_embeddings[word] = embedding_weights[idx]\n",
        "\n",
        "for word,embedding in list(word_embeddings.items())[10:15]:\n",
        "  print(f'word: {word}, Embedding:{embedding}')\n",
        "\n"
      ],
      "metadata": {
        "colab": {
          "base_uri": "https://localhost:8080/"
        },
        "id": "LJhHBtbCGy0U",
        "outputId": "d4a9c362-c719-49cd-c698-2f0d4b06b5a8"
      },
      "execution_count": null,
      "outputs": [
        {
          "output_type": "stream",
          "name": "stdout",
          "text": [
            "word: i, Embedding:[-0.007813   -0.03839122 -0.02245382  0.04700895  0.01180265  0.00884573\n",
            " -0.02104567  0.00222214 -0.0401674   0.01286882  0.02173615  0.00361161\n",
            " -0.03975101  0.02589889 -0.01370481  0.06798235 -0.00124058  0.05406816\n",
            "  0.01229288 -0.01925366  0.03081059  0.03307713 -0.00862336  0.02949064\n",
            "  0.02924531 -0.0016869  -0.00716808 -0.03275279 -0.03243267 -0.00656469\n",
            " -0.05033167  0.00638862  0.0291978   0.01767724  0.02526904 -0.01180799\n",
            "  0.01260254  0.01943219  0.00065934 -0.01076648 -0.01460293  0.02512101\n",
            "  0.00329463  0.05319835  0.01711995 -0.01266269  0.02729619  0.00234353\n",
            " -0.03700918  0.03110585 -0.04045486 -0.00053571  0.0156059  -0.00276183\n",
            "  0.02065913 -0.05680316  0.01967493 -0.01495776 -0.00742954 -0.03570254\n",
            " -0.01050328  0.03672477 -0.03238372  0.02378994  0.03009538  0.00535012\n",
            "  0.00288982 -0.0167408  -0.0073531   0.06380142  0.02247596 -0.01725754\n",
            "  0.00122384 -0.00766461  0.01728735  0.02006915  0.02177977  0.00248529\n",
            " -0.03308154  0.00557651  0.04010988 -0.03476304 -0.01867331 -0.06005923\n",
            "  0.04057121 -0.01551531 -0.01805247 -0.03792673  0.0436672   0.01664445\n",
            "  0.03389087  0.01499479 -0.04093925  0.02056283  0.01937006 -0.01133251\n",
            "  0.05210891  0.04610226  0.01409488 -0.00772516 -0.03986672 -0.00022616\n",
            " -0.01670355  0.02488642 -0.03274174  0.02275468 -0.03066648 -0.02800969\n",
            "  0.01427145  0.02707973 -0.03724883  0.01572995  0.00980453 -0.05160834\n",
            "  0.00162581 -0.00445042  0.03976397  0.01184998  0.04694233  0.02616251\n",
            "  0.00464184  0.01838439  0.05451579  0.00476797 -0.02141403  0.0025272\n",
            "  0.00340244 -0.00260307 -0.05073169  0.03331921  0.03934458 -0.01778185\n",
            "  0.0220407   0.0149329   0.00525841 -0.02650942  0.00489392  0.03719695\n",
            " -0.03030636  0.00464924 -0.04907243  0.043162   -0.0039532  -0.02373469\n",
            " -0.01607848 -0.02912862 -0.01581055 -0.01686164 -0.01387578 -0.01912306\n",
            " -0.00160921  0.00085812 -0.00959056  0.00823484  0.04547738  0.02154147\n",
            " -0.01609878 -0.04798332  0.02406873 -0.02217711  0.0258612   0.01620178\n",
            "  0.02159318  0.03578703 -0.01472633  0.03793693 -0.00432424 -0.04430344\n",
            " -0.02073941  0.00410179 -0.04047422  0.02218831  0.043917   -0.02824419\n",
            "  0.00831379 -0.04099932  0.00910088  0.00295249 -0.00734661 -0.00552534\n",
            "  0.0267028   0.04116402 -0.01829037  0.02670754 -0.00657962 -0.00108683\n",
            " -0.02965825  0.01585522 -0.01714446 -0.02806584  0.01502359 -0.02053423\n",
            "  0.03605915  0.03911629  0.00412853 -0.02429649 -0.01290691  0.04268696\n",
            "  0.02689834  0.03342267  0.00892337  0.03948448 -0.04262891  0.0301912\n",
            "  0.04023653  0.00908987 -0.03055764 -0.03130519  0.02998943  0.0396978\n",
            " -0.02200737  0.00062538 -0.03539961 -0.04412349  0.03024319 -0.01515399\n",
            "  0.03819742  0.01909072 -0.03118541 -0.02806886 -0.05176412 -0.00923813\n",
            "  0.03990117  0.04339817  0.0078742  -0.02644068  0.01844039  0.03847162\n",
            " -0.00299942 -0.0279665   0.0186416   0.04638975  0.00317005 -0.026621\n",
            "  0.03142611 -0.01292431 -0.02819666  0.03025028 -0.00633804 -0.04458717\n",
            "  0.00540058  0.02512428  0.01313821  0.0250259   0.03117062 -0.01000694\n",
            "  0.04811634  0.00473565  0.02390018  0.03965724  0.04356271  0.03554098\n",
            " -0.02755163  0.00746649 -0.03642216 -0.01344223  0.03419546  0.03049743\n",
            "  0.00437262 -0.06503314 -0.00539483  0.03306431  0.04147697  0.01534669\n",
            " -0.00968242 -0.03629841 -0.04414541 -0.01979267  0.01799423  0.01005415\n",
            "  0.00339194 -0.03622682  0.04436359  0.00935567  0.00014551  0.06666123\n",
            "  0.01344087 -0.03994599  0.01792158  0.00024133 -0.01133073  0.05138279\n",
            " -0.01141024  0.04193883  0.03320964 -0.01236213  0.01075305  0.02358667\n",
            " -0.00875014 -0.04242347 -0.00783104 -0.04387795 -0.01459903 -0.00365533\n",
            " -0.0320501  -0.03345946  0.00452413  0.03434172  0.02473293  0.00930403]\n",
            "word: that, Embedding:[-0.00545142 -0.01818166  0.01398455 -0.01607344  0.01352489  0.02457327\n",
            " -0.02496521  0.0513876   0.03804055  0.02614161 -0.00616933 -0.00497262\n",
            " -0.04492382  0.0359542  -0.0539511  -0.05667002 -0.03009383 -0.03212164\n",
            " -0.01970746  0.03970114  0.04576002  0.01987535 -0.03008964 -0.02162397\n",
            " -0.047139    0.00166217 -0.08430103  0.01625131 -0.02299537 -0.03058533\n",
            " -0.03729651  0.02613156 -0.01178928  0.04207845  0.07038435 -0.00613582\n",
            "  0.02273544 -0.05594769 -0.00763079 -0.04535013  0.00857406 -0.00715134\n",
            " -0.04095249 -0.00018446  0.02515343  0.00794379 -0.03976676  0.01583631\n",
            "  0.03406758 -0.02025366 -0.01968556  0.01119824  0.0613459   0.03770085\n",
            " -0.02249072 -0.0511073   0.0231624   0.05310934  0.01683692  0.01605581\n",
            " -0.01876317 -0.02029619 -0.05112542  0.01640019 -0.01089843  0.01677871\n",
            "  0.05793014 -0.02245055 -0.01891537  0.00170653  0.05093737 -0.01522412\n",
            " -0.02200193  0.02848304  0.03990078  0.0075227   0.01859314  0.05146605\n",
            " -0.04209174 -0.03959028 -0.02750426 -0.02125248 -0.06103127 -0.00236112\n",
            " -0.01689649  0.029664   -0.0192597  -0.02621437  0.04264003 -0.02882338\n",
            " -0.00722791  0.02144754  0.00746013  0.0263933  -0.0056899  -0.02484275\n",
            "  0.01520536  0.05985631 -0.0578515  -0.01543657  0.01134956  0.00866102\n",
            " -0.00506067 -0.03739166 -0.03069771  0.02911138  0.00142913  0.03536737\n",
            " -0.03548015 -0.02687883  0.00113099 -0.02148477  0.02231819  0.00392175\n",
            "  0.00665756 -0.01974524  0.01671985  0.00675698  0.01100169 -0.05910476\n",
            "  0.02042905  0.02935895  0.00703387 -0.01506705  0.00916271  0.00842505\n",
            "  0.00107855 -0.03049863 -0.05752279 -0.01566449  0.01895147  0.00448911\n",
            "  0.01644699  0.03768611 -0.0419906  -0.04552146  0.03557349  0.01692499\n",
            " -0.01618035 -0.02954391 -0.00472513  0.01422908  0.01920375  0.02154913\n",
            "  0.03588124  0.04047521  0.0329021   0.01075755  0.00340066  0.00886994\n",
            " -0.02480691  0.02188928  0.03534439 -0.05546569  0.03285815 -0.01840744\n",
            " -0.01417218  0.01363797 -0.05105852 -0.02849419  0.02348997  0.06776828\n",
            " -0.05737841 -0.05174259 -0.02677574 -0.01413789 -0.02107221  0.04517173\n",
            " -0.02057972 -0.04244163  0.01952492 -0.00439382  0.02427888  0.00626059\n",
            "  0.01255882 -0.0279851  -0.01203309  0.00989697  0.02875821  0.03023229\n",
            " -0.05392011  0.00304329  0.02026698  0.05994923  0.01622619 -0.00289435\n",
            "  0.01905516  0.0405346  -0.03561298 -0.00893461  0.03689938 -0.01753103\n",
            " -0.00426617  0.03713698 -0.01886259 -0.01619163  0.05485819 -0.01548602\n",
            " -0.02040444 -0.01887482  0.01398068 -0.06860906  0.00714344 -0.00568072\n",
            "  0.00891596  0.01740851  0.0247781  -0.03728268  0.00215422 -0.01238539\n",
            "  0.0322578  -0.01549577 -0.01981048  0.01113884  0.06234175 -0.03820626\n",
            " -0.01125723 -0.01660707 -0.01820176  0.02740028 -0.0197915   0.04142385\n",
            " -0.00411393  0.01591695 -0.01594146  0.03318426  0.07215397 -0.01345137\n",
            "  0.02462189 -0.01563206 -0.00122888  0.01446906 -0.00585492  0.00136248\n",
            "  0.04476944 -0.0178629  -0.02589171 -0.02277142 -0.00707425  0.0194769\n",
            "  0.00164482  0.02434345 -0.02529954 -0.03306649 -0.02824713  0.01868127\n",
            "  0.0130865   0.0028884   0.03019204 -0.03218891  0.04609279 -0.00545957\n",
            "  0.06128008  0.03645349 -0.00912154  0.03113438  0.0076636  -0.02076991\n",
            " -0.00600808 -0.04313365 -0.01771441  0.03804315  0.01596058  0.01003338\n",
            " -0.02890434 -0.02300813  0.03547183  0.02153786 -0.05718999 -0.0331534\n",
            "  0.00976473 -0.03281061 -0.02533356 -0.00600209  0.00323754 -0.05003262\n",
            " -0.03161662 -0.00769103 -0.0495082  -0.02050779 -0.03410353 -0.01111193\n",
            " -0.01243376 -0.02150603  0.00282301 -0.04875543  0.01363317  0.01585767\n",
            "  0.03036086  0.04883402 -0.03493155  0.03011201 -0.01975524  0.00072577\n",
            "  0.01663105  0.00548104  0.02428202 -0.03430073 -0.05934385 -0.00727176]\n",
            "word: was, Embedding:[ 3.0283503e-02  5.7679623e-02 -2.4573540e-02  3.5647463e-02\n",
            " -3.5145309e-02  4.0111288e-02 -2.8906420e-02 -1.7257442e-03\n",
            "  2.4053017e-03 -2.0733017e-02 -3.1929735e-02  3.1276725e-02\n",
            " -1.3627127e-02  3.3130191e-02  4.2194626e-03  6.2092524e-03\n",
            "  1.3055221e-02 -2.3251647e-02  2.0399364e-03  1.5616851e-02\n",
            " -1.4883764e-02  6.0937811e-02 -2.4181301e-02  1.6870690e-04\n",
            " -2.0200847e-02  1.0761256e-02 -1.0007301e-02  6.5336591e-03\n",
            "  3.4973044e-02  1.1103585e-02  4.8909929e-02  2.5866035e-02\n",
            " -4.4714652e-02 -6.9642658e-03 -4.7823522e-02 -3.8944282e-02\n",
            "  2.8619200e-02 -2.8929083e-02 -2.2211418e-02  1.8928213e-02\n",
            "  2.8115581e-03  1.0174780e-02  1.6275158e-02 -9.9214152e-02\n",
            "  3.8463004e-02  3.6644470e-02  2.9645834e-02 -7.0713297e-02\n",
            " -2.3456020e-02  2.5135987e-02  3.7313567e-04  1.4630952e-02\n",
            " -3.0469807e-02 -4.2532526e-02  8.4191971e-02  9.0467921e-03\n",
            "  2.1581339e-02  5.5472858e-02 -3.4383371e-02 -1.1484541e-02\n",
            " -8.9743935e-02  2.7957488e-02  2.2641683e-02 -3.8641457e-02\n",
            " -1.1699692e-02 -2.8710740e-02  4.5825038e-02 -2.2049403e-02\n",
            " -3.1609323e-02 -2.3590056e-02  9.8599298e-03 -3.4337144e-02\n",
            "  1.6687717e-03  2.8773969e-02 -3.7525918e-02  1.3354986e-02\n",
            "  7.9228811e-02 -9.6604945e-03 -2.7603356e-03  1.1469486e-02\n",
            "  9.0228301e-03  2.2382145e-03  3.8024083e-02 -2.0336630e-02\n",
            " -3.3282157e-02 -2.4628235e-02  3.3915337e-02 -1.3137186e-02\n",
            " -4.1334029e-02  4.8236195e-02  5.7500184e-02 -4.9766880e-03\n",
            "  3.3826761e-02 -2.6895512e-02 -2.0782676e-02 -9.7535793e-03\n",
            " -1.4548155e-03 -9.6844474e-04  2.1376949e-02 -4.5808941e-02\n",
            " -4.0528443e-02  3.3699137e-03  5.5279389e-02  1.7403807e-02\n",
            " -1.6301248e-02  2.1827428e-03  2.0126726e-02 -3.8351554e-02\n",
            "  2.1025248e-02  1.6843316e-03 -4.2956851e-02 -1.6527092e-02\n",
            "  1.0032339e-01 -1.4340798e-02 -2.6868718e-02  4.1034937e-02\n",
            " -5.5902939e-02  5.5728415e-03 -1.0321385e-02 -4.7860995e-02\n",
            "  5.1328760e-02  1.1809372e-02 -3.8937570e-03  3.4817737e-02\n",
            "  7.9763969e-03  1.8572017e-04  4.8256610e-02 -3.1101240e-03\n",
            "  4.5256864e-02  4.2435944e-02  2.1332448e-02 -5.7034963e-04\n",
            " -1.3773417e-02 -5.9579942e-02 -8.9433948e-03 -2.8292337e-03\n",
            " -1.1164071e-02  4.5161013e-02  4.1487198e-02 -1.9983018e-02\n",
            " -1.6745911e-03  5.6642136e-03 -1.0769907e-02  1.7178221e-02\n",
            "  1.5188389e-02 -8.2769366e-03  6.5757255e-03 -2.9950267e-02\n",
            "  1.7279575e-03  4.1646998e-02  3.8360562e-02  3.0597794e-04\n",
            "  4.6131618e-02 -3.2343429e-02 -2.7566133e-02  7.9679210e-03\n",
            " -3.6785036e-02  9.3578342e-03  4.1008595e-02  2.1661784e-02\n",
            "  5.2346658e-02 -1.6698867e-02  4.7081474e-02  2.3751939e-02\n",
            "  6.2021419e-02  1.4074071e-02  2.6074460e-02 -2.3149239e-02\n",
            " -4.4935029e-02 -4.7657717e-02 -3.6944970e-03  7.4448727e-02\n",
            "  2.5609011e-02  5.6812420e-02 -2.1241330e-02 -2.0120984e-02\n",
            "  3.7107825e-02 -3.8134493e-02  5.7564553e-02 -1.8146513e-02\n",
            "  8.4324880e-03 -3.9694194e-02 -2.5851723e-02 -1.0462057e-02\n",
            "  3.8062278e-02 -7.6762498e-03 -5.6091234e-02 -4.8951235e-02\n",
            "  2.3791082e-02  4.3473784e-02 -4.8541214e-02  4.1643608e-02\n",
            " -2.9842785e-02 -1.1943688e-02  5.6233387e-02 -4.0404577e-02\n",
            "  2.8000025e-02  5.7306595e-02  1.4011374e-02 -4.0653266e-02\n",
            "  1.1590120e-05  9.9049024e-03  5.5809837e-02  3.2599971e-02\n",
            " -3.7892479e-02  2.9795287e-02  9.8008383e-03  5.3572819e-02\n",
            "  3.7928283e-02 -1.2610645e-03  3.9980165e-03  2.0633357e-02\n",
            " -2.2894604e-02 -3.7111118e-02  3.0235687e-02  1.7178698e-02\n",
            " -4.2209912e-02 -4.7097046e-02  3.3538178e-02 -1.7907090e-02\n",
            " -5.4711238e-02 -2.8885843e-03 -2.9981712e-02  2.3259301e-02\n",
            "  3.4720741e-02  6.5388247e-02  3.4991726e-02 -2.8171778e-02\n",
            " -2.9008038e-02  4.3976407e-02  2.5898106e-02  1.5488656e-02\n",
            "  5.4363817e-02 -2.7062867e-02 -8.2033254e-02  1.0826789e-02\n",
            " -1.4714245e-02 -1.8233275e-02 -2.0731868e-02  8.6283445e-02\n",
            "  1.0249865e-02 -1.6002352e-03 -2.3251493e-02  5.0148200e-03\n",
            "  1.3606900e-03 -2.0291926e-02  2.6567958e-02  3.8764317e-02\n",
            "  3.2621298e-02  4.5272697e-02  4.2198758e-04 -1.6526885e-02\n",
            " -4.4696264e-02 -4.5201089e-02 -1.3282660e-02 -3.4584060e-02\n",
            " -4.1216824e-02 -3.3385880e-02  3.7572332e-02 -8.6552985e-02\n",
            " -5.5825457e-02 -1.9146984e-02  4.9626650e-03 -2.5956126e-02\n",
            " -5.5175316e-02  4.9991637e-02 -5.3831238e-02 -1.9598336e-04\n",
            "  2.0317532e-02 -1.8350367e-03  3.3617108e-03  2.4428574e-02\n",
            "  2.0977726e-02 -2.3907023e-03 -3.6960073e-02  5.1147523e-03\n",
            " -1.4565649e-03  1.3600147e-05 -4.0802836e-02 -1.2272323e-02\n",
            " -2.2785978e-02 -2.9274657e-02 -2.0179778e-02  2.0593451e-02\n",
            "  5.2681167e-02 -1.1479422e-02 -1.8420164e-02  3.1909570e-02\n",
            " -6.2878177e-02  2.4740515e-02  3.0013666e-02 -1.3966000e-02\n",
            " -2.7939659e-02  4.1772556e-03 -1.8316183e-02 -1.9240782e-02\n",
            " -9.7536296e-03 -2.8831935e-02 -1.4119257e-02 -9.0607058e-04]\n",
            "word: as, Embedding:[-6.00582361e-02  3.50898900e-03  3.56148146e-02 -2.12904364e-02\n",
            "  4.97811101e-02  1.97195727e-02 -2.69183307e-04  4.36027981e-02\n",
            "  6.22860994e-03  3.31232771e-02 -4.90877368e-02  6.09116293e-02\n",
            "  4.49612997e-02  1.69193801e-02 -2.00473126e-02 -8.79186764e-03\n",
            "  1.86332334e-02 -8.44721124e-03 -2.57998910e-02 -3.60961594e-02\n",
            "  3.55217308e-02  2.54435814e-03 -1.51862437e-02 -1.64496973e-02\n",
            " -3.74579616e-02  3.08722034e-02 -2.37393426e-03  2.79474240e-02\n",
            "  4.46375497e-02  2.44205236e-03  2.71559060e-02 -4.25326563e-02\n",
            " -4.13936488e-02  2.34914571e-02  2.19839159e-02  2.75483611e-03\n",
            " -5.11886403e-02  7.37107079e-03  5.48631372e-03  5.25759067e-03\n",
            "  9.56809893e-03 -5.81635302e-03  1.28319452e-03  5.41877979e-03\n",
            "  3.13378386e-02 -7.51474686e-03  2.71996763e-02  3.58136483e-02\n",
            "  1.79884639e-02 -1.98181868e-02  2.97289025e-02  9.36620962e-03\n",
            " -5.28782234e-03  2.55406741e-02  1.89185813e-02 -3.38994078e-02\n",
            "  3.26077491e-02  1.76032335e-02  4.04938199e-02  2.11214051e-02\n",
            " -1.22899376e-02 -1.35310693e-02 -2.03889851e-02 -4.17612493e-02\n",
            "  3.83069506e-03 -1.55541310e-02 -1.39862886e-02 -1.79094560e-02\n",
            " -3.67548019e-02 -4.90178056e-02  3.07527948e-02  1.72003508e-02\n",
            " -2.73396745e-02  3.52485143e-02 -2.11747698e-02  3.39983143e-02\n",
            "  1.29511338e-02 -2.20350288e-02 -1.05089843e-02 -1.10024009e-02\n",
            " -1.36322631e-02 -3.63378488e-02  2.71698702e-02 -7.76570698e-04\n",
            "  2.74513438e-02  3.21734436e-02  1.07730739e-02  1.36275664e-02\n",
            "  6.12639338e-02 -2.79047173e-02  1.09995557e-02 -5.21721803e-02\n",
            "  6.96503744e-03  1.71292992e-03  6.85122935e-03  1.43061066e-02\n",
            " -6.74748793e-02  5.56249209e-02  4.57964418e-03  4.10438031e-02\n",
            "  3.15230452e-02 -6.61525652e-02 -6.17476106e-02 -2.77179349e-02\n",
            "  2.06364077e-02 -2.36836057e-02 -2.79802755e-02  3.50982584e-02\n",
            " -1.87690184e-02  7.34790973e-03  2.27950290e-02  1.42086437e-03\n",
            "  6.94280565e-02 -9.52151138e-03 -3.33982706e-02 -3.93018574e-02\n",
            "  6.02876768e-03  4.11959663e-02  9.74617433e-03  2.62543932e-02\n",
            "  5.34183905e-03 -6.46831375e-03  1.95623375e-02 -2.89411601e-02\n",
            " -5.13099283e-02  4.61450219e-02  2.10288372e-02  5.74310534e-02\n",
            " -4.46879715e-02  5.98642118e-02  5.50667644e-02  2.12238152e-02\n",
            "  4.46940139e-02  3.47374380e-02  2.23504603e-02 -3.29291336e-02\n",
            "  6.76215906e-03 -4.78413589e-02 -1.66127309e-02 -1.84674822e-02\n",
            "  2.00091936e-02 -2.84263510e-02 -1.26690082e-02 -5.07072806e-02\n",
            " -3.10576130e-02  8.14846624e-03  6.24861754e-02 -4.11326960e-02\n",
            "  1.92376357e-02  5.73356152e-02  1.96206886e-02  1.79487281e-02\n",
            "  1.85328498e-02 -3.30098309e-02  5.65404072e-02  1.12197949e-02\n",
            "  4.65365238e-02 -5.57351001e-02  9.01447027e-04  3.86019908e-02\n",
            "  1.96967716e-03  1.82623547e-02  7.11894827e-03 -2.66839638e-02\n",
            " -1.16360579e-02 -4.13607284e-02 -2.18931623e-02  8.55668820e-03\n",
            " -3.12601849e-02 -2.23581605e-02  3.49867865e-02  1.34684099e-02\n",
            "  1.56115945e-02 -1.16655342e-02 -1.36500422e-03 -1.64610986e-02\n",
            "  7.25744739e-02  1.66017823e-02 -1.02098174e-02 -2.75153425e-02\n",
            " -1.50452908e-02 -3.33810854e-03  2.33889632e-02  1.88392624e-02\n",
            "  2.02011578e-02 -1.16194356e-02 -1.61545689e-03 -1.31819658e-02\n",
            "  4.21215892e-02  5.79456612e-02 -1.04131438e-02  4.01459783e-02\n",
            " -8.16575065e-03  4.97723892e-02  1.74007677e-02  1.57302190e-02\n",
            "  3.70677002e-02  8.76117381e-04 -1.60617176e-02 -6.92451606e-03\n",
            "  2.51479223e-02 -5.79233877e-02  2.51110978e-02  6.09076507e-02\n",
            "  2.19779015e-02 -3.21137942e-02 -2.57965596e-03  3.90830934e-02\n",
            " -3.81997339e-02  1.01901665e-02 -2.99034175e-02  2.03914568e-03\n",
            "  4.27914448e-02 -2.72062011e-02 -2.23056320e-02  4.69878362e-03\n",
            "  9.39577445e-03 -2.29105260e-02 -1.71341542e-02  3.17080058e-02\n",
            " -2.46596672e-02 -1.72313994e-05  1.19056914e-03 -6.50617015e-03\n",
            " -2.76772049e-03  1.18389940e-02  1.67898480e-02 -2.96338666e-02\n",
            "  5.96087202e-02  5.99498488e-02  5.04719745e-03 -7.56448926e-03\n",
            "  2.60187145e-02  4.21751030e-02  4.97632399e-02 -4.14449908e-03\n",
            " -2.28448454e-02  2.30257679e-02  3.80020365e-02  1.63605940e-02\n",
            "  3.81862279e-03 -1.77505743e-02  1.43423816e-02 -4.21773596e-03\n",
            "  3.12139783e-02  8.01060814e-04 -3.51129696e-02 -2.23947391e-02\n",
            " -2.36030594e-02 -3.21760133e-04  2.88165286e-02  1.80610400e-02\n",
            "  2.15459596e-02  4.78830934e-02 -3.33621465e-02  3.99283953e-02\n",
            "  2.22172625e-02  4.55577560e-02 -3.63274664e-02  9.89488792e-03\n",
            " -1.46663310e-02 -3.60960923e-02  2.90604346e-02 -5.86826680e-03\n",
            " -5.02147563e-02 -1.86927803e-02  2.75243688e-02 -7.81431235e-03\n",
            " -2.69268826e-02 -5.59773780e-02 -9.43645649e-03 -1.50861936e-02\n",
            "  3.82856391e-02  3.97826359e-02 -2.48545390e-02 -3.10980156e-02\n",
            " -6.29464223e-04 -3.85605581e-02 -5.17110638e-02  1.95604302e-02\n",
            " -3.35633121e-02  5.76037243e-02 -4.64808522e-03  6.10954165e-02\n",
            "  3.81267108e-02  6.25147577e-03 -1.54021615e-02 -1.15984865e-02\n",
            "  2.83707287e-02 -4.76286747e-02 -4.92206290e-02 -1.44963013e-02\n",
            " -2.00034175e-02 -9.44542047e-03 -2.16576010e-02 -2.79418216e-03\n",
            " -1.72388293e-02 -1.92187559e-02  3.14191580e-02  1.44230509e-02]\n",
            "word: with, Embedding:[ 3.29837948e-02 -2.43875440e-02 -8.39280337e-03 -4.76478450e-02\n",
            " -1.37848249e-02  3.65928970e-02 -3.83205749e-02  3.06850094e-02\n",
            "  2.14350112e-02  1.30703924e-02  1.14110252e-02  2.63801347e-02\n",
            " -2.69877072e-02  1.36118997e-02  2.53301263e-02 -4.16822731e-02\n",
            "  1.70722995e-02 -2.40993556e-02 -1.75469797e-02 -8.47543180e-02\n",
            "  9.96684935e-03 -3.08151674e-02 -4.10923269e-03  2.06440990e-03\n",
            "  4.93793888e-03 -4.66586985e-02  7.90007226e-03 -4.15682420e-02\n",
            "  1.43143181e-02  4.65232953e-02 -2.20158678e-02 -3.42757963e-02\n",
            " -1.09235551e-02  4.99293618e-02  2.81256158e-02 -2.85003800e-02\n",
            " -1.17786126e-02  8.43156874e-03  5.70085421e-02 -1.87921636e-02\n",
            " -3.12097799e-02 -3.06198727e-02 -1.81236919e-02  7.08912164e-02\n",
            "  6.96627703e-03 -7.47656263e-03  3.74980234e-02 -3.33175212e-02\n",
            " -1.61481202e-02 -2.29504872e-02  1.44156422e-02 -1.68285496e-03\n",
            " -4.11363132e-02  3.23465541e-02 -1.80599391e-02  2.00222968e-03\n",
            "  2.12952979e-02  1.58232842e-02 -5.36416732e-02 -5.13775013e-02\n",
            "  3.17439549e-02 -9.54740401e-03  1.56362709e-02 -7.02227326e-03\n",
            " -3.49726714e-02 -9.23026539e-03  2.89825955e-03 -1.65414792e-02\n",
            "  2.54785884e-02 -9.48684348e-04 -6.18371591e-02  3.63029912e-02\n",
            "  1.43617941e-02 -2.05139723e-02  1.02828126e-02  3.23996581e-02\n",
            "  3.11361160e-02 -4.02499065e-02  2.62265727e-02  4.02811728e-02\n",
            " -4.28236760e-02  5.03624044e-02 -4.45869602e-02  4.06998396e-02\n",
            "  1.44342339e-05  8.05133395e-03 -1.87506098e-02  4.01401855e-02\n",
            "  4.45543751e-02  4.43760268e-02  5.03618754e-02  3.30646038e-02\n",
            " -2.93044839e-02 -2.83290278e-02  4.16402332e-02  1.40934950e-02\n",
            " -1.75720118e-02 -3.77582796e-02  2.63441075e-02 -2.45034304e-02\n",
            "  4.62843552e-02 -2.27835961e-02 -1.12184845e-02 -8.20981991e-03\n",
            "  1.77185778e-02 -2.87156496e-02 -1.64326420e-03  2.64321789e-02\n",
            " -4.11286391e-02  2.76448345e-03 -1.65175330e-02 -2.48176772e-02\n",
            " -2.66377721e-02  1.19501539e-02 -2.05030460e-02  4.93133888e-02\n",
            " -4.57742028e-02  2.52134800e-02 -2.92387065e-02 -3.78788225e-02\n",
            " -1.10876234e-02  1.56128202e-02  6.10678457e-02  2.32978817e-02\n",
            "  3.23756691e-03  4.13133241e-02 -3.11060660e-02  4.56621312e-02\n",
            "  6.29608240e-03  2.98494566e-02 -3.00726499e-02  4.24767211e-02\n",
            " -4.13043126e-02  3.50796431e-02 -4.77075428e-02  5.67718688e-03\n",
            " -4.34877984e-02 -4.03914787e-02 -9.65577550e-03 -1.50968488e-02\n",
            "  2.06270963e-02 -8.55965354e-03  1.90321857e-03 -1.30926995e-02\n",
            " -2.01417431e-02 -4.21231389e-02  2.03640554e-02 -2.45673358e-02\n",
            " -1.28594236e-02  2.54890658e-02 -3.28592993e-02 -1.88165344e-02\n",
            "  3.43610272e-02 -3.48158255e-02  4.05979566e-02  2.02443320e-02\n",
            "  3.40377800e-02  2.90323980e-02 -1.54890530e-02 -5.29045947e-02\n",
            " -1.37069244e-02 -2.16987543e-03  2.30140314e-02  4.09686705e-03\n",
            " -1.65372100e-02 -2.17305236e-02 -3.12490705e-02  4.16327966e-03\n",
            " -1.55714499e-02 -4.64759246e-02 -4.20666263e-02  3.88122275e-02\n",
            " -1.40046002e-02  7.23007554e-03 -2.40642414e-03 -4.01675552e-02\n",
            " -3.45463566e-02  2.02568099e-02 -4.23277393e-02 -2.49429345e-02\n",
            "  2.54858211e-02  5.09790098e-03 -2.97617707e-02 -6.91291131e-03\n",
            " -2.64581721e-02 -2.01446563e-02 -2.73649599e-02  3.96631584e-02\n",
            " -3.83460298e-02 -3.87244187e-02  4.98188250e-02 -1.27944099e-02\n",
            "  1.34024369e-02  4.78278883e-02 -1.64894816e-02  3.45203653e-02\n",
            " -2.67887395e-02  1.61830913e-02  2.34541334e-02 -1.46212233e-02\n",
            "  4.82086614e-02  4.05303687e-02  3.87965441e-02 -1.60962867e-03\n",
            "  3.65542732e-02 -5.74352629e-02  1.46467658e-02 -2.15309821e-02\n",
            "  2.65642855e-04 -3.92371230e-02  1.25523973e-02 -4.42288369e-02\n",
            "  3.17006297e-02 -2.23293230e-02 -8.38447642e-03 -4.34128642e-02\n",
            "  5.21828085e-02  1.29517531e-02 -3.75188366e-02 -4.67428751e-02\n",
            " -2.00860128e-02  7.34401569e-02 -2.88488865e-02  4.66365032e-02\n",
            "  2.07436122e-02 -3.43073644e-02  2.56931204e-02 -1.34787504e-02\n",
            "  7.52398325e-03  3.79905924e-02 -4.42492813e-02 -3.44847441e-02\n",
            "  1.84832960e-02  4.68449993e-03  5.52988276e-02  2.84789898e-03\n",
            "  4.30147015e-02  1.49861025e-02 -3.94989029e-02  1.09479595e-02\n",
            "  4.13539074e-02  2.04497855e-03  1.51445875e-02  4.01794612e-02\n",
            " -1.68089382e-02 -1.09768668e-02  3.66367176e-02 -4.72444994e-03\n",
            "  6.50391448e-03 -9.03665554e-03 -1.87854748e-03 -4.14409377e-02\n",
            "  2.38935165e-02 -2.18440928e-02  3.72400992e-02 -6.75818231e-03\n",
            "  2.42234431e-02 -1.95515435e-02 -3.25228088e-02  3.46532464e-02\n",
            " -4.31193635e-02  1.11787189e-02  7.31896283e-03 -3.83115187e-02\n",
            " -2.21192278e-03 -2.04638932e-02  1.19615775e-02  3.89719084e-02\n",
            "  3.94210443e-02  4.01178971e-02 -2.66139526e-02 -3.05556785e-02\n",
            "  5.02370112e-02 -2.15645880e-02 -1.29115302e-02 -7.39127351e-03\n",
            "  4.86118160e-02  1.24453865e-02 -2.77636591e-02  7.95979239e-03\n",
            " -4.98356968e-02 -1.51522197e-02 -3.30448747e-02 -2.50753127e-02\n",
            "  3.27478684e-02 -5.23222201e-02 -3.57922204e-02 -4.53049801e-02\n",
            "  5.46590844e-03  1.48922335e-02 -1.39327403e-02 -3.46812606e-02\n",
            " -2.18483359e-02  1.38630681e-02 -7.48935970e-04 -4.87894900e-02\n",
            " -4.73306216e-02 -9.65768844e-03  2.03670450e-02  2.61177234e-02]\n"
          ]
        }
      ]
    },
    {
      "cell_type": "code",
      "source": [
        "#LSTM\n",
        "model = tf.keras.models.Sequential()\n",
        "model.add(tf.keras.layers.Embedding(input_dim = VOCAB_SIZE,output_dim = EMBEDDING_DIM,input_length = MAX_SEQUENCES_LENGTH))\n",
        "model.add(tf.keras.layers.Bidirectional(tf.keras.layers.LSTM(128,return_sequences=False)))\n",
        "model.add(tf.keras.layers.Dense(256,activation = 'relu'))\n",
        "model.add(tf.keras.layers.Dense(1,activation = 'sigmoid'))\n",
        "\n",
        "model.compile(loss = 'binary_crossentropy',optimizer = 'adam',metrics = ['accuracy'])\n"
      ],
      "metadata": {
        "id": "nPy2C1VPGy2W"
      },
      "execution_count": null,
      "outputs": []
    },
    {
      "cell_type": "code",
      "source": [
        "model.summary()"
      ],
      "metadata": {
        "colab": {
          "base_uri": "https://localhost:8080/",
          "height": 261
        },
        "id": "gUX4hVbSGy4V",
        "outputId": "b014257a-17b3-44d5-e565-175178d3ca72"
      },
      "execution_count": null,
      "outputs": [
        {
          "output_type": "display_data",
          "data": {
            "text/plain": [
              "\u001b[1mModel: \"sequential_1\"\u001b[0m\n"
            ],
            "text/html": [
              "<pre style=\"white-space:pre;overflow-x:auto;line-height:normal;font-family:Menlo,'DejaVu Sans Mono',consolas,'Courier New',monospace\"><span style=\"font-weight: bold\">Model: \"sequential_1\"</span>\n",
              "</pre>\n"
            ]
          },
          "metadata": {}
        },
        {
          "output_type": "display_data",
          "data": {
            "text/plain": [
              "┏━━━━━━━━━━━━━━━━━━━━━━━━━━━━━━━━━━━━━━┳━━━━━━━━━━━━━━━━━━━━━━━━━━━━━┳━━━━━━━━━━━━━━━━━┓\n",
              "┃\u001b[1m \u001b[0m\u001b[1mLayer (type)                        \u001b[0m\u001b[1m \u001b[0m┃\u001b[1m \u001b[0m\u001b[1mOutput Shape               \u001b[0m\u001b[1m \u001b[0m┃\u001b[1m \u001b[0m\u001b[1m        Param #\u001b[0m\u001b[1m \u001b[0m┃\n",
              "┡━━━━━━━━━━━━━━━━━━━━━━━━━━━━━━━━━━━━━━╇━━━━━━━━━━━━━━━━━━━━━━━━━━━━━╇━━━━━━━━━━━━━━━━━┩\n",
              "│ embedding_1 (\u001b[38;5;33mEmbedding\u001b[0m)              │ ?                           │     \u001b[38;5;34m0\u001b[0m (unbuilt) │\n",
              "├──────────────────────────────────────┼─────────────────────────────┼─────────────────┤\n",
              "│ bidirectional (\u001b[38;5;33mBidirectional\u001b[0m)        │ ?                           │     \u001b[38;5;34m0\u001b[0m (unbuilt) │\n",
              "├──────────────────────────────────────┼─────────────────────────────┼─────────────────┤\n",
              "│ dense_2 (\u001b[38;5;33mDense\u001b[0m)                      │ ?                           │     \u001b[38;5;34m0\u001b[0m (unbuilt) │\n",
              "├──────────────────────────────────────┼─────────────────────────────┼─────────────────┤\n",
              "│ dense_3 (\u001b[38;5;33mDense\u001b[0m)                      │ ?                           │     \u001b[38;5;34m0\u001b[0m (unbuilt) │\n",
              "└──────────────────────────────────────┴─────────────────────────────┴─────────────────┘\n"
            ],
            "text/html": [
              "<pre style=\"white-space:pre;overflow-x:auto;line-height:normal;font-family:Menlo,'DejaVu Sans Mono',consolas,'Courier New',monospace\">┏━━━━━━━━━━━━━━━━━━━━━━━━━━━━━━━━━━━━━━┳━━━━━━━━━━━━━━━━━━━━━━━━━━━━━┳━━━━━━━━━━━━━━━━━┓\n",
              "┃<span style=\"font-weight: bold\"> Layer (type)                         </span>┃<span style=\"font-weight: bold\"> Output Shape                </span>┃<span style=\"font-weight: bold\">         Param # </span>┃\n",
              "┡━━━━━━━━━━━━━━━━━━━━━━━━━━━━━━━━━━━━━━╇━━━━━━━━━━━━━━━━━━━━━━━━━━━━━╇━━━━━━━━━━━━━━━━━┩\n",
              "│ embedding_1 (<span style=\"color: #0087ff; text-decoration-color: #0087ff\">Embedding</span>)              │ ?                           │     <span style=\"color: #00af00; text-decoration-color: #00af00\">0</span> (unbuilt) │\n",
              "├──────────────────────────────────────┼─────────────────────────────┼─────────────────┤\n",
              "│ bidirectional (<span style=\"color: #0087ff; text-decoration-color: #0087ff\">Bidirectional</span>)        │ ?                           │     <span style=\"color: #00af00; text-decoration-color: #00af00\">0</span> (unbuilt) │\n",
              "├──────────────────────────────────────┼─────────────────────────────┼─────────────────┤\n",
              "│ dense_2 (<span style=\"color: #0087ff; text-decoration-color: #0087ff\">Dense</span>)                      │ ?                           │     <span style=\"color: #00af00; text-decoration-color: #00af00\">0</span> (unbuilt) │\n",
              "├──────────────────────────────────────┼─────────────────────────────┼─────────────────┤\n",
              "│ dense_3 (<span style=\"color: #0087ff; text-decoration-color: #0087ff\">Dense</span>)                      │ ?                           │     <span style=\"color: #00af00; text-decoration-color: #00af00\">0</span> (unbuilt) │\n",
              "└──────────────────────────────────────┴─────────────────────────────┴─────────────────┘\n",
              "</pre>\n"
            ]
          },
          "metadata": {}
        },
        {
          "output_type": "display_data",
          "data": {
            "text/plain": [
              "\u001b[1m Total params: \u001b[0m\u001b[38;5;34m0\u001b[0m (0.00 B)\n"
            ],
            "text/html": [
              "<pre style=\"white-space:pre;overflow-x:auto;line-height:normal;font-family:Menlo,'DejaVu Sans Mono',consolas,'Courier New',monospace\"><span style=\"font-weight: bold\"> Total params: </span><span style=\"color: #00af00; text-decoration-color: #00af00\">0</span> (0.00 B)\n",
              "</pre>\n"
            ]
          },
          "metadata": {}
        },
        {
          "output_type": "display_data",
          "data": {
            "text/plain": [
              "\u001b[1m Trainable params: \u001b[0m\u001b[38;5;34m0\u001b[0m (0.00 B)\n"
            ],
            "text/html": [
              "<pre style=\"white-space:pre;overflow-x:auto;line-height:normal;font-family:Menlo,'DejaVu Sans Mono',consolas,'Courier New',monospace\"><span style=\"font-weight: bold\"> Trainable params: </span><span style=\"color: #00af00; text-decoration-color: #00af00\">0</span> (0.00 B)\n",
              "</pre>\n"
            ]
          },
          "metadata": {}
        },
        {
          "output_type": "display_data",
          "data": {
            "text/plain": [
              "\u001b[1m Non-trainable params: \u001b[0m\u001b[38;5;34m0\u001b[0m (0.00 B)\n"
            ],
            "text/html": [
              "<pre style=\"white-space:pre;overflow-x:auto;line-height:normal;font-family:Menlo,'DejaVu Sans Mono',consolas,'Courier New',monospace\"><span style=\"font-weight: bold\"> Non-trainable params: </span><span style=\"color: #00af00; text-decoration-color: #00af00\">0</span> (0.00 B)\n",
              "</pre>\n"
            ]
          },
          "metadata": {}
        }
      ]
    },
    {
      "cell_type": "code",
      "source": [
        "model.fit(X_train,y_train,epochs=2,batch_size=100,shuffle = True, validation_data=(X_test,y_test))"
      ],
      "metadata": {
        "colab": {
          "base_uri": "https://localhost:8080/"
        },
        "id": "vnYEF2V2Gy6b",
        "outputId": "0dee6459-0356-4970-c3e4-192f6ace9c1a"
      },
      "execution_count": null,
      "outputs": [
        {
          "output_type": "stream",
          "name": "stdout",
          "text": [
            "Epoch 1/2\n",
            "\u001b[1m350/350\u001b[0m \u001b[32m━━━━━━━━━━━━━━━━━━━━\u001b[0m\u001b[37m\u001b[0m \u001b[1m81s\u001b[0m 218ms/step - accuracy: 0.7485 - loss: 0.4930 - val_accuracy: 0.8827 - val_loss: 0.2892\n",
            "Epoch 2/2\n",
            "\u001b[1m350/350\u001b[0m \u001b[32m━━━━━━━━━━━━━━━━━━━━\u001b[0m\u001b[37m\u001b[0m \u001b[1m76s\u001b[0m 216ms/step - accuracy: 0.9392 - loss: 0.1665 - val_accuracy: 0.8665 - val_loss: 0.3261\n"
          ]
        },
        {
          "output_type": "execute_result",
          "data": {
            "text/plain": [
              "<keras.src.callbacks.history.History at 0x79165d8a9ea0>"
            ]
          },
          "metadata": {},
          "execution_count": 29
        }
      ]
    },
    {
      "cell_type": "code",
      "source": [
        "score = model.evaluate(X_test,y_test)\n",
        "print(\"Accuracy:\",score[1]*100)"
      ],
      "metadata": {
        "colab": {
          "base_uri": "https://localhost:8080/"
        },
        "id": "wzCxjMZnUONF",
        "outputId": "6704daca-e497-475e-e80a-22a85a83eb66"
      },
      "execution_count": null,
      "outputs": [
        {
          "output_type": "stream",
          "name": "stdout",
          "text": [
            "\u001b[1m469/469\u001b[0m \u001b[32m━━━━━━━━━━━━━━━━━━━━\u001b[0m\u001b[37m\u001b[0m \u001b[1m15s\u001b[0m 31ms/step - accuracy: 0.8671 - loss: 0.3303\n",
            "Accuracy: 86.64666414260864\n"
          ]
        }
      ]
    },
    {
      "cell_type": "code",
      "source": [
        "embedding_layer = model.get_layer('embedding_1')"
      ],
      "metadata": {
        "id": "UjmqV--QUOPv"
      },
      "execution_count": null,
      "outputs": []
    },
    {
      "cell_type": "code",
      "source": [
        "embedding_weights = embedding_layer.get_weights()[0]\n",
        "\n",
        "word_index = t.word_index\n",
        "word_embeddings = {}\n",
        "\n",
        "for word,idx in word_index.items():\n",
        "  if idx<VOCAB_SIZE:\n",
        "    word_embeddings[word] = embedding_weights[idx]\n",
        "\n",
        "for word,embedding in list(word_embeddings.items())[10:15]:\n",
        "  print(f'word: {word}, Embedding:{embedding}')\n"
      ],
      "metadata": {
        "colab": {
          "base_uri": "https://localhost:8080/"
        },
        "collapsed": true,
        "id": "Vb1MHauzUOSN",
        "outputId": "b699111b-d1de-4c94-c6c9-9dddece167d6"
      },
      "execution_count": null,
      "outputs": [
        {
          "output_type": "stream",
          "name": "stdout",
          "text": [
            "word: i, Embedding:[ 2.51570288e-02  1.80154480e-02  4.18517925e-02  2.33383831e-02\n",
            " -2.71055894e-03 -5.39785139e-02  3.80656384e-02  2.61281477e-03\n",
            "  2.18490791e-02 -5.62996529e-02  1.61722943e-03 -3.76769304e-02\n",
            " -1.86992995e-02 -2.80420370e-02  3.01398952e-02 -9.35219973e-03\n",
            " -1.19808159e-04  2.13077874e-03 -3.30117010e-02 -1.03905965e-02\n",
            "  1.51420971e-02 -4.43628877e-02  8.70321505e-03  1.54806804e-02\n",
            " -7.10406946e-03  1.03589604e-02  3.46684866e-02 -3.96446250e-02\n",
            "  1.43488841e-02  1.94258559e-02  3.82909132e-03 -3.59863937e-02\n",
            " -2.85783224e-02  7.41721317e-03 -1.62201021e-02 -1.81658920e-02\n",
            "  2.64432114e-02 -6.45495020e-03  6.63709268e-02  2.00048033e-02\n",
            "  1.20206121e-02 -3.07530202e-02 -4.53334115e-02 -3.60574268e-05\n",
            "  3.78871895e-02 -2.16503106e-02  2.07957141e-02 -4.33195569e-02\n",
            " -1.86845362e-02  2.12609190e-02  1.06451930e-02 -2.78985798e-02\n",
            "  1.65046975e-02  1.70317143e-02 -2.79089250e-02  1.49072381e-02\n",
            " -3.79507095e-02 -3.62046696e-02 -3.50061283e-02 -2.04049256e-02\n",
            "  3.82818980e-04  3.53513658e-02  3.30542475e-02  3.06583196e-02\n",
            "  3.10858898e-02  1.35829831e-02  4.56771106e-02 -1.58321224e-02\n",
            " -2.32658125e-02 -1.62417404e-02 -2.51401160e-02 -2.68371291e-02\n",
            " -2.15955405e-03 -2.66645234e-02  4.94666211e-02  3.75893973e-02\n",
            " -1.51256211e-02 -4.04820405e-02 -6.83610374e-03  4.40956838e-03\n",
            "  2.61221696e-02 -4.20296937e-02  1.85741170e-04 -1.41372327e-02\n",
            "  1.88906714e-02  7.84907956e-03 -4.66767652e-03  9.13765375e-03\n",
            " -1.78411994e-02 -6.26582536e-04  1.30565921e-02  3.70382257e-02\n",
            " -5.44718988e-02 -3.16376314e-02  9.58893914e-03 -1.50936563e-03\n",
            " -1.99228227e-02 -1.75217949e-02 -3.76787186e-02  8.85244273e-03\n",
            "  1.14202953e-03  3.96805629e-02 -9.02960636e-03 -2.08967235e-02\n",
            " -1.76820233e-02 -4.09856476e-02 -1.94456764e-02 -3.93627025e-02\n",
            " -3.43562011e-03  7.53154559e-03 -1.08056227e-02 -1.50459949e-02\n",
            " -4.17151302e-02 -1.14376144e-02 -6.53186999e-03 -3.20925489e-02\n",
            " -7.23022502e-03 -8.77410267e-03 -1.63383018e-02 -4.60701063e-02\n",
            "  9.58738942e-03 -4.18443792e-02 -3.46547365e-02  2.91575212e-02\n",
            "  9.27009061e-03 -3.76492110e-03  9.94544011e-03  8.21863580e-03\n",
            " -2.67593842e-02  1.10454941e-02 -1.55787477e-02  5.50593846e-02\n",
            " -3.05378307e-02  3.77330147e-02  2.10452825e-02  2.82298252e-02\n",
            " -2.23734649e-03  6.22183224e-03  4.60771322e-02 -1.45791983e-02\n",
            " -4.45882278e-03  4.04998064e-02  4.37335074e-02  4.41496819e-02\n",
            " -1.14587387e-02 -1.91769712e-02 -2.43444592e-02 -3.49065773e-02\n",
            "  2.13691033e-02  2.78554317e-02 -6.86093494e-02  1.71976034e-02\n",
            "  6.23615086e-03  7.10694585e-03 -1.70515627e-02 -1.08796870e-02\n",
            " -4.24297526e-02 -2.81629600e-02  2.96154674e-02 -2.93945661e-03\n",
            " -1.23102143e-02  3.74266095e-02 -2.15885881e-02  6.28915289e-03\n",
            " -2.68913805e-03 -1.26009518e-02 -2.95937601e-02 -2.28232779e-02\n",
            "  1.95855228e-03  4.91117164e-02 -4.59355414e-02  4.00071107e-02\n",
            "  2.56920117e-03  3.14220786e-02  2.74976697e-02 -5.96220186e-03\n",
            " -1.91341024e-02 -2.29575932e-02 -2.17564814e-02  4.44420725e-02\n",
            "  4.11406457e-02 -3.09377611e-02 -7.71023938e-03  3.89006808e-02\n",
            " -8.17797147e-03  4.12575528e-02 -4.36625369e-02 -8.50552320e-03\n",
            " -3.66162620e-02 -7.42857251e-03 -5.27556892e-03  2.78077126e-02\n",
            " -1.35606984e-02  1.80573389e-02  2.51875632e-02  2.34874301e-02\n",
            " -2.10141204e-02 -2.59362236e-02  1.44264782e-02 -1.38351601e-02\n",
            " -1.30174058e-02  4.84677367e-02  6.31667627e-03  4.86650243e-02\n",
            " -1.76229402e-02  4.46651094e-02  3.80683877e-02  1.42759811e-02\n",
            "  4.25243638e-02  2.04525236e-02 -5.78931021e-03 -2.49157902e-02\n",
            " -2.76548527e-02  1.26248747e-02 -6.47876272e-03 -2.96489429e-02\n",
            "  4.33643907e-02 -4.19099256e-03 -4.20602076e-02 -3.65110040e-02\n",
            " -3.53839844e-02 -2.92567518e-02  1.04959328e-02 -3.47300470e-02\n",
            "  1.14285359e-02  2.81828046e-02 -1.98400319e-02  3.20256017e-02\n",
            " -9.89796594e-03  2.37503611e-02  1.38007780e-03 -3.94538864e-02\n",
            " -3.28112431e-02  2.32586674e-02  8.04501679e-03 -9.72352829e-03\n",
            "  2.17128322e-02  2.72050407e-02  2.61882525e-02 -1.61061548e-02\n",
            "  8.80033057e-03  4.64477800e-02 -5.56702027e-03  4.54330780e-02\n",
            "  1.06591629e-02 -3.26943723e-03  2.78819706e-02  4.15023491e-02\n",
            " -2.35035247e-03  1.12940054e-02 -6.46719011e-04  2.31042188e-02\n",
            " -1.22579895e-02 -3.00650252e-03  4.57169302e-02  2.84992717e-02\n",
            " -2.32741237e-03  9.26309847e-04 -9.46165062e-04  1.31657743e-03\n",
            " -9.34367534e-03  6.47845045e-02 -5.34767509e-02 -1.68020539e-02\n",
            "  3.23811881e-02  2.62718983e-02 -1.81527175e-02 -4.24861815e-03\n",
            "  2.14304421e-02  2.60436255e-02 -2.59329528e-02  1.80415548e-02\n",
            "  3.64841484e-02 -2.00258177e-02 -3.11779194e-02  4.90535945e-02\n",
            "  1.00962901e-02 -3.91449891e-02  2.75933109e-02  8.60691722e-03\n",
            " -3.59002277e-02  2.73693185e-02 -1.53194480e-02  1.14776324e-02\n",
            " -1.25251887e-02 -5.00925742e-02  1.30671170e-02  4.19241115e-02\n",
            "  4.30513732e-02  1.87383108e-02  4.53839451e-02 -7.26476079e-03\n",
            "  2.68125664e-02 -2.70518940e-03  2.79838685e-02  1.10044442e-02\n",
            " -1.28104342e-02 -7.18434248e-03  3.10309064e-02  1.70056019e-02]\n",
            "word: that, Embedding:[ 3.11937425e-02 -6.56085508e-03  2.54412182e-02 -2.59691700e-02\n",
            " -1.28396479e-02 -1.51836022e-03  3.82160349e-03 -2.41928902e-02\n",
            " -4.15692143e-02 -6.75126612e-02 -3.89680862e-02  4.37812209e-02\n",
            " -2.48401146e-02  3.28899361e-02  8.97136703e-03 -6.76928386e-02\n",
            " -5.22676744e-02 -4.62088026e-02  3.29214446e-02 -3.06376610e-02\n",
            " -2.91200392e-02  1.41796703e-02  5.35615273e-02 -2.54551880e-02\n",
            " -1.40259536e-02 -2.27506123e-02  6.59838226e-03  1.74089726e-02\n",
            " -1.32948644e-02  1.02195200e-02  4.12793718e-02  4.34046099e-03\n",
            " -6.30225753e-03  3.16885374e-02  2.38573970e-03 -4.22321819e-02\n",
            "  8.58446583e-03 -1.67852342e-02 -5.86913042e-02 -5.40698282e-02\n",
            "  7.32999528e-03  6.67860359e-03 -1.86685361e-02 -2.43864302e-03\n",
            "  4.81893457e-02 -1.95342377e-02 -3.93468477e-02 -4.13297489e-02\n",
            " -3.44993919e-02  6.46153372e-03 -3.05297226e-02  4.24704701e-02\n",
            " -5.10807596e-02 -3.28331888e-02 -1.85091104e-02  4.43425886e-02\n",
            "  8.04764125e-03  4.86692786e-02 -3.02459784e-02  2.47974601e-02\n",
            "  4.15928103e-02 -3.38526033e-02  1.75994914e-02  1.02493353e-02\n",
            "  3.31714898e-02  1.12432186e-02 -5.46766706e-02  4.77131829e-02\n",
            "  5.89705892e-02  4.11839671e-02 -3.92638184e-02  2.33046953e-02\n",
            " -2.79100407e-02 -1.64102055e-02  9.98314098e-03 -1.96531639e-02\n",
            "  3.69385332e-02  4.48626764e-02 -1.61338784e-02  4.02623117e-02\n",
            " -3.05897947e-02  1.42085273e-02  2.42426135e-02 -2.19356548e-02\n",
            " -3.11974902e-02  3.54499817e-02 -2.02371981e-02 -4.48920429e-02\n",
            " -3.87980491e-02  1.39942467e-02  3.11728735e-02 -1.49995992e-02\n",
            "  5.49639948e-02  3.69649865e-02 -1.56624930e-03  3.57388481e-02\n",
            " -9.60552227e-03  4.08532582e-02  5.00403941e-02 -2.77007222e-02\n",
            "  8.41513555e-03 -5.01557365e-02 -1.05640404e-02 -1.42836869e-02\n",
            " -2.57398430e-02 -2.02843994e-02 -3.04750577e-02 -2.51937862e-02\n",
            "  3.47698107e-02  1.86896902e-02 -3.99428084e-02  3.65299918e-02\n",
            " -3.71420942e-02  2.77575683e-02  1.65159125e-02 -1.15296952e-02\n",
            "  4.59765755e-02 -5.88166229e-02  2.27936525e-02  1.61995483e-03\n",
            " -9.36019234e-03  1.65792331e-02 -5.47852255e-02  3.97850201e-03\n",
            "  3.56620201e-03 -4.59604012e-03 -1.15267187e-03  4.51164953e-02\n",
            " -2.04563681e-02 -2.47448292e-02 -1.55795272e-02  4.59407084e-02\n",
            " -6.07246719e-02  1.01506931e-03  4.41152342e-02 -3.72549109e-02\n",
            "  8.56474321e-03 -4.60182764e-02  4.18682322e-02 -1.27891991e-02\n",
            "  3.81780863e-02  1.94168221e-02 -1.12974411e-02 -3.44155356e-03\n",
            "  6.99887238e-03 -2.38465965e-02 -3.35202739e-02  1.53625682e-02\n",
            "  2.48851683e-02  1.73558574e-02  2.49205995e-02  4.45389487e-02\n",
            "  1.79307833e-02  3.24169211e-02  2.48173084e-02  1.88527498e-02\n",
            " -1.79359037e-03 -3.38420086e-02 -1.54282413e-02 -6.24310970e-03\n",
            "  1.57667715e-02 -8.68406333e-03  1.40506718e-02 -2.31574997e-02\n",
            " -4.39283513e-02  3.15302126e-02 -3.60501334e-02  1.84327215e-02\n",
            " -5.94994090e-02  8.94024223e-03  1.49678085e-02 -3.47018503e-02\n",
            "  9.52662434e-03  7.47707114e-03 -3.06967385e-02  2.49746218e-02\n",
            "  2.34214775e-02  7.47011160e-04  3.57422158e-02 -9.57178324e-03\n",
            " -3.59419063e-02  3.72265875e-02  5.48408274e-03  4.35197167e-02\n",
            " -5.71441390e-02 -4.11467999e-02  2.40849741e-02 -9.91089735e-03\n",
            " -1.41774379e-02  4.61458601e-02  5.22465911e-04  2.79814061e-02\n",
            " -6.14626613e-03 -1.97821967e-02  5.27268499e-02  1.64187625e-02\n",
            "  4.10327082e-03 -5.18742669e-03 -1.04315663e-02  7.15612248e-03\n",
            "  2.43123323e-02  4.38913256e-02  2.07033623e-02  1.13198534e-02\n",
            "  1.45493466e-02 -3.72079271e-03 -3.22046643e-03  4.11568545e-02\n",
            " -3.14267762e-02 -5.09780133e-03  2.77166069e-02  2.21485607e-02\n",
            "  3.86058576e-02  8.44740681e-03  1.95674896e-02  2.41551176e-02\n",
            " -4.46923450e-02  2.61670426e-02 -1.32947147e-03 -2.60856561e-02\n",
            "  4.63491678e-02 -4.78199124e-03  6.26108004e-03 -3.87244001e-02\n",
            " -3.21845263e-02  4.89094928e-02  3.56005654e-02 -2.21601198e-03\n",
            " -3.93985696e-02 -1.71712451e-02 -6.09151907e-02  4.92188260e-02\n",
            " -3.48823087e-05  5.82452901e-02 -3.66764143e-02 -6.68342225e-03\n",
            " -2.51053665e-02  3.76350805e-02 -7.10907876e-02 -3.42566073e-02\n",
            " -7.53218010e-02 -4.44060229e-02 -2.88705342e-02  5.10012265e-04\n",
            "  1.28071411e-02  1.66302733e-02  1.22068999e-02  3.01894406e-03\n",
            " -4.24456447e-02  2.14298372e-03  7.83962198e-03 -3.67912166e-02\n",
            " -1.52977174e-02  3.93140689e-02  1.31403012e-02  4.65136990e-02\n",
            " -7.49370642e-03  4.03878689e-02 -3.38971652e-02 -1.39369350e-02\n",
            "  4.40416746e-02 -1.89260654e-02 -6.54659942e-02 -2.45569013e-02\n",
            " -1.73644274e-02  9.36331879e-03 -1.84878660e-03 -1.82317793e-02\n",
            "  1.17263915e-02  1.54480850e-02  4.61414419e-02  2.83229467e-03\n",
            " -1.94662288e-02 -3.50850485e-02  4.01544124e-02 -2.05422286e-02\n",
            "  3.58262435e-02  3.82290483e-02  1.43302139e-03 -4.52247914e-03\n",
            "  4.23498154e-02 -5.58711067e-02  2.86914930e-02  4.78889868e-02\n",
            "  6.25101328e-02 -1.48321427e-02  1.32200308e-02  3.21768597e-02\n",
            "  6.87157037e-03 -3.28515582e-02  1.05052290e-03  7.29655055e-03\n",
            " -2.91014072e-02  3.47734354e-02 -1.19638108e-02  1.07008992e-02\n",
            "  5.97014558e-04  4.94177304e-02 -4.61225398e-02 -3.68018486e-02]\n",
            "word: was, Embedding:[ 3.59589569e-02 -1.86331552e-02 -2.57534981e-02  8.35778937e-03\n",
            " -2.71629188e-02  4.61112186e-02  2.53742505e-02  5.45623787e-02\n",
            " -4.55098413e-02 -5.40206842e-02 -2.43289415e-02  1.13978619e-02\n",
            "  1.35579072e-02  1.82661694e-02 -1.61862001e-02  2.55719591e-02\n",
            " -7.69467205e-02 -5.79039119e-02  2.20458526e-02  8.65130406e-03\n",
            " -3.97404619e-02 -7.25609884e-02  3.38993929e-02 -1.68133769e-02\n",
            " -2.55521853e-03 -2.24115085e-02 -5.54887168e-02  1.25251533e-02\n",
            " -6.72539249e-02  2.95418128e-02 -4.45319247e-03  3.24463397e-02\n",
            " -4.64466140e-02  5.69547899e-03 -3.46765071e-02 -4.86675687e-02\n",
            "  8.40016380e-02 -1.40015036e-02  4.29722108e-02 -1.04277795e-02\n",
            "  1.33796521e-02  2.43871287e-02  1.83281116e-02 -1.74231566e-02\n",
            " -1.76352879e-03  1.98411313e-03 -4.80817519e-02  2.15511359e-02\n",
            "  3.89200039e-02  1.49867730e-02  2.55810097e-02  2.05375860e-03\n",
            "  5.42473979e-02 -4.17703502e-02  4.11671065e-02 -2.21871845e-02\n",
            " -2.24940758e-02  2.45500747e-02  3.39617208e-02  1.66325402e-02\n",
            " -2.91270623e-03 -1.59469619e-02  2.25903132e-04  1.88942498e-03\n",
            " -1.91770382e-02  5.59722260e-03 -1.82203408e-02  9.92717221e-03\n",
            " -2.93354914e-02  7.33748311e-03 -1.20495344e-02  4.18308713e-02\n",
            "  6.54535554e-03  3.62984240e-02  1.74292102e-02  2.47798208e-02\n",
            " -1.71465650e-02  1.27844105e-04  5.82473055e-02  8.36161344e-05\n",
            "  2.40079146e-02  1.21222818e-02  3.19305211e-02  1.03874616e-02\n",
            "  1.39687378e-02 -3.12593468e-02 -5.75404279e-02  3.18807587e-02\n",
            "  1.47719644e-02  1.90389324e-02 -5.12649119e-02  1.76561158e-02\n",
            " -3.20088267e-02  4.00659144e-02 -3.32661308e-02 -4.94596586e-02\n",
            " -4.18399051e-02  6.41575754e-02  1.70574412e-02 -3.12970318e-02\n",
            " -2.34663840e-02 -1.00859506e-02 -4.78379540e-02  5.83079159e-02\n",
            " -6.82035321e-03  3.59207243e-02 -4.38117459e-02  4.01641661e-03\n",
            " -1.74551848e-02  2.03546472e-02 -9.67152696e-03 -6.32288605e-02\n",
            "  7.83690624e-03 -1.26401223e-02  3.13490517e-02  1.53191136e-02\n",
            " -5.82068153e-02  9.42793768e-03 -2.77386466e-03  2.15149000e-02\n",
            "  4.57943194e-02  2.50472669e-02 -1.96899232e-02 -3.62020954e-02\n",
            "  7.47607602e-03  3.74153703e-02 -4.33020899e-03 -2.20188294e-02\n",
            " -3.30134891e-02  3.92086711e-03 -1.54125122e-02  1.19057880e-03\n",
            "  3.78203988e-02  3.42889801e-02  4.88931662e-04  3.40829268e-02\n",
            " -1.20829709e-03 -4.02456969e-02  2.87832674e-02  4.50568087e-03\n",
            " -8.20447132e-03 -7.12560071e-03 -1.00088250e-02  3.94033231e-02\n",
            " -5.18430658e-02  2.36921664e-02 -6.73116045e-03  2.08953861e-03\n",
            "  6.68732673e-02  3.39601301e-02  1.62477773e-02 -3.25562023e-02\n",
            " -2.42876988e-02 -3.36046144e-02  7.34069645e-02  2.33467128e-02\n",
            " -1.81469950e-03 -4.34551090e-02  1.39159709e-02  2.94574946e-02\n",
            " -4.20635380e-02 -3.98061180e-04 -5.70601691e-03  1.93936098e-03\n",
            " -4.73528206e-02  3.62484250e-03 -3.61219980e-02  3.98475910e-03\n",
            "  4.97784317e-02  4.98118736e-02  5.42422198e-03 -3.12305335e-02\n",
            " -5.34380265e-02 -3.52746770e-02 -1.76157262e-02 -4.94652949e-02\n",
            " -4.71660346e-02 -8.18890519e-03  1.45815150e-03 -4.17733267e-02\n",
            " -1.75953340e-02  4.94393371e-02 -4.21711504e-02 -4.45499271e-02\n",
            " -4.62881736e-02  1.94494054e-02  2.84895096e-02  3.76356021e-02\n",
            " -2.28816830e-02  5.81339523e-02 -6.37807325e-02  6.06790138e-03\n",
            " -1.74374767e-02  2.72287577e-02 -2.70284750e-02  1.34019349e-02\n",
            "  1.56642124e-02 -3.34815718e-02 -3.73786851e-03 -2.91427933e-02\n",
            " -8.96955375e-03  5.55502176e-02  2.78916545e-02 -2.29366813e-02\n",
            "  5.77747524e-02  1.31756766e-03  3.34233232e-02  4.99880314e-02\n",
            " -3.55174877e-02 -4.10112999e-02  5.04607484e-02  3.41720693e-03\n",
            "  5.63738570e-02  2.47850306e-02 -2.53259949e-03  1.43763318e-03\n",
            " -3.31231467e-02 -2.21432094e-02  1.69414617e-02  5.91622815e-02\n",
            "  2.82237902e-02  5.92732430e-02 -3.36982459e-02 -7.86934718e-02\n",
            "  1.68919261e-03 -5.10770157e-02  4.92193028e-02  7.48251053e-03\n",
            "  4.67170822e-03 -3.16328066e-03 -2.96111815e-02 -4.34420683e-04\n",
            " -9.60534345e-03 -1.94522110e-03  1.61131024e-02 -3.72128561e-03\n",
            " -2.38994174e-02 -1.71455517e-02  2.43845861e-02  7.75694987e-03\n",
            "  1.68001018e-02 -1.41488528e-02  8.20899103e-03 -1.63444299e-02\n",
            "  2.18360145e-02 -4.77564260e-02  4.70681563e-02  3.36958468e-02\n",
            "  4.07098383e-02  5.41471019e-02 -3.73826250e-02 -1.68571100e-02\n",
            " -5.71535900e-02 -3.44587862e-02  3.25244293e-02  6.09805956e-02\n",
            " -8.58354941e-03  7.17615709e-04 -1.19982827e-02  1.77687891e-02\n",
            " -5.07662222e-02  2.61201672e-02  2.08062641e-02  5.56093501e-03\n",
            " -1.51112489e-02 -3.21261561e-03  5.28870374e-02 -3.37171257e-02\n",
            " -4.21483815e-02  3.77898775e-02 -1.81153584e-02  2.90686060e-02\n",
            "  3.73780057e-02 -4.15805951e-02  5.41938096e-02  4.38089482e-02\n",
            "  4.11330871e-02  1.08283134e-02 -8.74602410e-04 -1.10130711e-03\n",
            "  3.14948559e-02  1.56793017e-02  1.57008879e-02  9.49074142e-03\n",
            "  2.37862188e-02  4.04077535e-03  2.11644936e-02  1.07043488e-02\n",
            "  4.97529730e-02  4.46465164e-02 -3.18901613e-02 -4.61332910e-02\n",
            " -1.22686522e-03  6.00906424e-02  3.31526768e-04 -4.68389951e-02\n",
            "  2.42584404e-02  3.73486876e-02 -5.96744977e-02 -1.04747759e-02]\n",
            "word: as, Embedding:[-3.65568288e-02  1.41407428e-02 -3.65402326e-02  1.19260419e-02\n",
            " -1.22698117e-02 -2.02958882e-02 -6.90801768e-03 -7.63112586e-03\n",
            "  1.43824480e-02 -6.36689947e-04  2.37896554e-02  4.02274318e-02\n",
            " -1.65961105e-02 -1.02239167e-02 -3.17193046e-02 -1.48117170e-02\n",
            "  6.39379770e-02 -4.44132984e-02  4.46163234e-04  2.73281373e-02\n",
            " -1.47461295e-02  1.95530038e-02  9.62284300e-03  3.96857634e-02\n",
            " -1.29822101e-02  3.63630094e-02 -6.53568562e-03 -2.66023818e-02\n",
            "  4.99251299e-02 -1.08803799e-02  3.37419659e-02  1.36924116e-02\n",
            "  7.77889392e-04  3.74607816e-02 -3.46225277e-02 -9.09650605e-03\n",
            " -7.09145293e-02 -3.57235558e-02 -2.37252116e-02 -1.24088663e-03\n",
            "  3.49531993e-02  4.94707434e-04 -4.33988236e-02 -1.82987284e-02\n",
            "  2.89457757e-02  4.80164811e-02 -3.78893130e-02 -7.57385278e-04\n",
            " -1.80639978e-02  3.84197719e-02  2.45531759e-04  3.90136875e-02\n",
            " -3.85994054e-02  4.42748889e-02  3.77240665e-02  9.85545479e-03\n",
            " -2.91997809e-02 -2.16121711e-02  2.45020986e-02 -2.53413096e-02\n",
            " -3.91075984e-02 -3.94717837e-03  3.30201983e-02 -2.68188454e-02\n",
            " -1.14159109e-02 -4.61956486e-02 -2.80634537e-02  2.24488042e-03\n",
            "  5.11785410e-02  3.98496613e-02  1.90645568e-02  1.79543868e-02\n",
            " -1.66420098e-02 -3.83022428e-02  1.12857216e-03  2.32470427e-02\n",
            " -2.92713270e-02 -1.85565967e-02 -2.73706224e-02  3.77893820e-02\n",
            "  1.05686234e-02  4.01976220e-02 -5.50818117e-03 -3.05768754e-02\n",
            "  2.31539980e-02 -1.86899565e-02  3.18278931e-02 -3.64070050e-02\n",
            " -3.59148458e-02 -1.70533322e-02  1.06612239e-02 -1.71119049e-02\n",
            " -5.82958385e-02 -1.02895424e-02  5.65992333e-02  4.34602499e-02\n",
            "  3.19970353e-03 -7.09070414e-02 -1.07266353e-02  4.38683964e-02\n",
            "  3.54011543e-02  1.91985313e-02  3.63240242e-02  3.18757333e-02\n",
            " -1.08004510e-02  1.12077584e-02  2.43904721e-02  4.04582135e-02\n",
            "  5.03358319e-02 -2.89736930e-02 -6.10373914e-03 -1.97617970e-02\n",
            "  7.07959943e-03  4.12005447e-02 -4.26928746e-04 -2.81510111e-02\n",
            "  3.34886685e-02  3.08561008e-02  3.06303110e-02 -6.04152419e-02\n",
            "  2.65218709e-02  1.01707513e-02  7.80218747e-03  1.08640175e-03\n",
            "  3.46188918e-02 -4.49045561e-02 -1.44131556e-02 -1.59630217e-02\n",
            "  5.70385158e-03 -4.82587516e-02  2.20541283e-02  3.78189720e-02\n",
            "  3.65352631e-02  7.45107094e-03 -1.17935603e-02 -6.02453053e-02\n",
            " -1.28844706e-02  4.51467857e-02  3.03861052e-02 -1.33749098e-02\n",
            "  4.56422288e-03 -1.09671033e-03 -4.20380533e-02 -2.82851234e-02\n",
            "  7.84185454e-02 -2.61405744e-02 -1.92896463e-02 -1.67264007e-02\n",
            "  4.46830876e-02  2.20424552e-02 -4.36981246e-02 -4.95306216e-02\n",
            " -8.10468011e-03  2.44432893e-02 -2.00574659e-02  5.93519863e-03\n",
            "  4.07539792e-02  2.78850626e-02  2.84151454e-03  5.61788939e-02\n",
            "  3.42667140e-02 -4.03876789e-02  4.18549888e-02  4.47492748e-02\n",
            "  4.30850275e-02 -3.49196270e-02  4.99996953e-02  3.67735140e-02\n",
            " -2.30499916e-02 -2.42919493e-02 -1.84511188e-02  4.35021706e-02\n",
            "  2.23924182e-02 -3.64435241e-02 -7.83470459e-03 -2.97699850e-02\n",
            " -1.00994157e-02  3.54313813e-02  1.94762740e-02 -4.95186485e-02\n",
            "  2.65186895e-02  3.17122303e-02  3.39497961e-02  3.76715548e-02\n",
            " -2.73162988e-03 -3.97249609e-02 -1.27120325e-02  1.17883715e-03\n",
            "  1.36738988e-02 -6.68678316e-04  4.06872928e-02 -2.74067670e-02\n",
            "  1.54508306e-02 -3.35193910e-02  4.94632013e-02  6.04243483e-04\n",
            " -2.65188795e-02  4.66930494e-02 -7.22806063e-03  1.15833255e-02\n",
            "  4.21625562e-02 -3.52945961e-02  8.28398671e-03  3.09739225e-02\n",
            "  1.12155676e-02 -4.13952321e-02 -3.75492759e-02 -3.77581757e-03\n",
            "  4.04254645e-02  3.22708972e-02  4.29215804e-02  1.33822523e-02\n",
            "  3.40753607e-02 -1.76044293e-02 -2.05945838e-02 -2.86461674e-02\n",
            " -2.05766242e-02 -4.80773225e-02 -1.55454818e-02 -4.01994735e-02\n",
            " -3.79525349e-02 -1.06367301e-02 -1.05278920e-02  1.37731768e-02\n",
            " -8.04834068e-03  4.04502861e-02 -1.96167231e-02  1.90217607e-02\n",
            " -4.62550558e-02  1.19214272e-03 -5.73305003e-02  2.95154080e-02\n",
            " -1.94578746e-03  1.81828439e-02  9.57110431e-03  1.29788357e-03\n",
            " -2.56813113e-02  2.71684546e-02 -1.20437704e-03  3.18449251e-02\n",
            " -4.71843630e-02  1.58148240e-02 -4.76384014e-02 -1.94183607e-02\n",
            "  4.13244516e-02  1.26086371e-02 -6.22508787e-02 -3.21532935e-02\n",
            " -3.47382687e-02  2.83280984e-02 -2.66612321e-02 -4.47207689e-02\n",
            "  4.82729822e-03  4.24776003e-02 -3.68464738e-03  1.00657232e-02\n",
            " -4.88517024e-02 -1.58030186e-02  3.13727707e-02  3.05956621e-02\n",
            "  5.33236600e-02 -2.42755078e-02 -3.12963724e-02 -3.65811400e-02\n",
            "  2.55512521e-02  2.81961206e-02 -5.81760556e-02  2.46989727e-02\n",
            " -3.44387181e-02  1.74216852e-02 -1.03903729e-02  1.22063840e-02\n",
            " -4.17563207e-02  2.39456166e-02 -4.38273652e-04 -3.10495570e-02\n",
            "  4.84701060e-03  4.62254835e-03 -1.54589433e-02 -1.17175123e-02\n",
            " -1.61548406e-02  4.15735617e-02 -3.83774675e-02 -1.58219989e-02\n",
            " -3.44430506e-02  9.79168061e-03  2.01564413e-02 -4.93327715e-03\n",
            "  2.03266051e-02 -3.17214727e-02  8.02392066e-02  2.59575574e-03\n",
            "  2.81266477e-02 -6.46049976e-02  1.47063110e-05 -4.24623415e-02\n",
            " -3.02573685e-02  4.79152314e-02 -4.23417650e-02  1.37351640e-02]\n",
            "word: with, Embedding:[-0.04008262 -0.05524714  0.01984764 -0.00720631 -0.02960601  0.01833056\n",
            "  0.03713169 -0.03797674  0.03329714 -0.00441212 -0.04006619 -0.02819613\n",
            " -0.04790379 -0.00329746  0.0026415  -0.01415599 -0.02110845 -0.04693124\n",
            " -0.02033298  0.02916078  0.05460279  0.0202205  -0.02147298 -0.04787426\n",
            "  0.01268071  0.04324251  0.00049028 -0.04358616 -0.04288983  0.03267751\n",
            "  0.01573838 -0.02759077 -0.00514236  0.02535284  0.05193118  0.00035662\n",
            " -0.01515395  0.00920645 -0.07890291 -0.03070748 -0.02056891 -0.00074412\n",
            "  0.02449334 -0.03627383 -0.01175823  0.02511133  0.03211048  0.02174891\n",
            " -0.02969445  0.0132327   0.02190051 -0.02875647 -0.00133357 -0.0455503\n",
            "  0.04106402  0.02699335 -0.02686089  0.0013206   0.02022329 -0.01278481\n",
            " -0.00405124 -0.03067409  0.03713029  0.04586027  0.04778402 -0.02216396\n",
            " -0.00546462  0.03422255  0.00076718 -0.016251    0.0297787  -0.00260532\n",
            " -0.01872493 -0.02311919 -0.08334349  0.00868964  0.03506077  0.01592764\n",
            " -0.0160176   0.00500844  0.01071968  0.01673898 -0.03998486  0.04933862\n",
            " -0.05843093 -0.01011424 -0.03254591 -0.00577917  0.00509875 -0.0300543\n",
            " -0.02857051  0.01156731  0.01589824 -0.00551785 -0.01452983 -0.0096456\n",
            " -0.02582779  0.03174464  0.04109378 -0.00135994  0.00118916 -0.02994951\n",
            " -0.00862594  0.01873664 -0.01024383  0.00580209 -0.01625257 -0.01460298\n",
            " -0.00750938 -0.00953798 -0.03770331  0.03665587  0.03427996  0.01349351\n",
            " -0.03312718  0.05297652  0.04643015 -0.03249098 -0.02052141 -0.05719499\n",
            " -0.05436056  0.01099186 -0.02396385  0.00292068 -0.02392591  0.0170873\n",
            " -0.01912455  0.04391582  0.0183253   0.01743813  0.0334931   0.01009285\n",
            " -0.02460245  0.04553083  0.0182775  -0.03795249 -0.0126881  -0.02390577\n",
            " -0.02372116  0.03333752  0.03015384  0.00097441  0.02355782  0.00029469\n",
            "  0.0359194  -0.04231862 -0.02319965 -0.00787193 -0.02535888 -0.02076447\n",
            " -0.04467168 -0.01649524 -0.02709995 -0.00999831  0.018676   -0.06159751\n",
            "  0.00029473 -0.02906793 -0.01415905  0.01760464  0.00899994  0.02225656\n",
            "  0.01289047  0.00398014 -0.00974291 -0.02108011  0.01684462 -0.02417718\n",
            " -0.02749368 -0.02595482  0.0214404   0.0239015  -0.0344322   0.01117763\n",
            "  0.00772521  0.01868095 -0.03175509 -0.00658631  0.00384323  0.01589845\n",
            " -0.01655636 -0.00728208  0.04185579 -0.02154823 -0.03589848  0.01989599\n",
            "  0.02430919  0.05139859 -0.00723307  0.03629386  0.02454759 -0.01933224\n",
            "  0.01117982 -0.03302081 -0.01851894  0.00094221 -0.00715936  0.01481781\n",
            "  0.02479471  0.00099871 -0.02301909  0.02640335 -0.00248286 -0.00646215\n",
            "  0.0012104   0.00721267  0.05680261 -0.0069672  -0.01739465 -0.0086953\n",
            " -0.01318417  0.00896374 -0.03093091 -0.04518244 -0.02483053 -0.021033\n",
            " -0.0036721   0.03396094  0.05207928 -0.03058355  0.03264571  0.02479262\n",
            " -0.05526476 -0.03528437 -0.04747242  0.05829941  0.02284499  0.03196532\n",
            "  0.02295047  0.00630788 -0.01855488 -0.02624454  0.00973041  0.02240078\n",
            " -0.05577726 -0.01136478  0.01305289  0.00223431 -0.0326976   0.02041989\n",
            " -0.00583383  0.03673377  0.00357741 -0.03881571  0.00311874  0.00753022\n",
            " -0.03751596  0.04496474  0.01059497 -0.00984668  0.02171245 -0.02442673\n",
            " -0.00123791 -0.05379473  0.01035804  0.00322564  0.03149562 -0.00168295\n",
            " -0.05665629 -0.01001877  0.03814527 -0.02738638  0.03179175 -0.01160486\n",
            " -0.01605171  0.05321012  0.04487216 -0.01893271  0.02412128 -0.04061356\n",
            "  0.01273221 -0.04362455  0.00137463  0.04203736  0.01360168  0.02460976\n",
            "  0.04703555 -0.01426751 -0.02864826  0.00033555  0.02965949 -0.06139592\n",
            " -0.01946104  0.03588495 -0.02982181 -0.02623138  0.00739462  0.01447669\n",
            " -0.02429326  0.01602125 -0.0454774   0.0023888  -0.00855603  0.01748327\n",
            " -0.01558962  0.0501214   0.03460002  0.04162262  0.04502313  0.00322629]\n"
          ]
        }
      ]
    },
    {
      "cell_type": "code",
      "source": [
        "#MULITIPLE LAYERS OF LSTM\n",
        "model = tf.keras.models.Sequential()\n",
        "model.add(tf.keras.layers.Embedding(input_dim = VOCAB_SIZE,output_dim = EMBEDDING_DIM,input_length = MAX_SEQUENCES_LENGTH))\n",
        "model.add(tf.keras.layers.Bidirectional(tf.keras.layers.LSTM(256,return_sequences=True)))\n",
        "model.add(tf.keras.layers.Bidirectional(tf.keras.layers.LSTM(128,return_sequences=False)))\n",
        "model.add(tf.keras.layers.Dense(256,activation = 'relu'))\n",
        "model.add(tf.keras.layers.Dense(1,activation = 'sigmoid'))\n",
        "\n",
        "model.compile(loss = 'binary_crossentropy',optimizer = 'adam',metrics = ['accuracy'])"
      ],
      "metadata": {
        "id": "Jekiwm1QUOUa"
      },
      "execution_count": null,
      "outputs": []
    },
    {
      "cell_type": "code",
      "source": [
        "model.summary()"
      ],
      "metadata": {
        "colab": {
          "base_uri": "https://localhost:8080/",
          "height": 293
        },
        "id": "DJF5TWe0WE4a",
        "outputId": "5ec1dc65-83a9-46f0-a05f-8946c486efee"
      },
      "execution_count": null,
      "outputs": [
        {
          "output_type": "display_data",
          "data": {
            "text/plain": [
              "\u001b[1mModel: \"sequential_2\"\u001b[0m\n"
            ],
            "text/html": [
              "<pre style=\"white-space:pre;overflow-x:auto;line-height:normal;font-family:Menlo,'DejaVu Sans Mono',consolas,'Courier New',monospace\"><span style=\"font-weight: bold\">Model: \"sequential_2\"</span>\n",
              "</pre>\n"
            ]
          },
          "metadata": {}
        },
        {
          "output_type": "display_data",
          "data": {
            "text/plain": [
              "┏━━━━━━━━━━━━━━━━━━━━━━━━━━━━━━━━━━━━━━┳━━━━━━━━━━━━━━━━━━━━━━━━━━━━━┳━━━━━━━━━━━━━━━━━┓\n",
              "┃\u001b[1m \u001b[0m\u001b[1mLayer (type)                        \u001b[0m\u001b[1m \u001b[0m┃\u001b[1m \u001b[0m\u001b[1mOutput Shape               \u001b[0m\u001b[1m \u001b[0m┃\u001b[1m \u001b[0m\u001b[1m        Param #\u001b[0m\u001b[1m \u001b[0m┃\n",
              "┡━━━━━━━━━━━━━━━━━━━━━━━━━━━━━━━━━━━━━━╇━━━━━━━━━━━━━━━━━━━━━━━━━━━━━╇━━━━━━━━━━━━━━━━━┩\n",
              "│ embedding_2 (\u001b[38;5;33mEmbedding\u001b[0m)              │ ?                           │     \u001b[38;5;34m0\u001b[0m (unbuilt) │\n",
              "├──────────────────────────────────────┼─────────────────────────────┼─────────────────┤\n",
              "│ bidirectional_1 (\u001b[38;5;33mBidirectional\u001b[0m)      │ ?                           │     \u001b[38;5;34m0\u001b[0m (unbuilt) │\n",
              "├──────────────────────────────────────┼─────────────────────────────┼─────────────────┤\n",
              "│ bidirectional_2 (\u001b[38;5;33mBidirectional\u001b[0m)      │ ?                           │     \u001b[38;5;34m0\u001b[0m (unbuilt) │\n",
              "├──────────────────────────────────────┼─────────────────────────────┼─────────────────┤\n",
              "│ dense_4 (\u001b[38;5;33mDense\u001b[0m)                      │ ?                           │     \u001b[38;5;34m0\u001b[0m (unbuilt) │\n",
              "├──────────────────────────────────────┼─────────────────────────────┼─────────────────┤\n",
              "│ dense_5 (\u001b[38;5;33mDense\u001b[0m)                      │ ?                           │     \u001b[38;5;34m0\u001b[0m (unbuilt) │\n",
              "└──────────────────────────────────────┴─────────────────────────────┴─────────────────┘\n"
            ],
            "text/html": [
              "<pre style=\"white-space:pre;overflow-x:auto;line-height:normal;font-family:Menlo,'DejaVu Sans Mono',consolas,'Courier New',monospace\">┏━━━━━━━━━━━━━━━━━━━━━━━━━━━━━━━━━━━━━━┳━━━━━━━━━━━━━━━━━━━━━━━━━━━━━┳━━━━━━━━━━━━━━━━━┓\n",
              "┃<span style=\"font-weight: bold\"> Layer (type)                         </span>┃<span style=\"font-weight: bold\"> Output Shape                </span>┃<span style=\"font-weight: bold\">         Param # </span>┃\n",
              "┡━━━━━━━━━━━━━━━━━━━━━━━━━━━━━━━━━━━━━━╇━━━━━━━━━━━━━━━━━━━━━━━━━━━━━╇━━━━━━━━━━━━━━━━━┩\n",
              "│ embedding_2 (<span style=\"color: #0087ff; text-decoration-color: #0087ff\">Embedding</span>)              │ ?                           │     <span style=\"color: #00af00; text-decoration-color: #00af00\">0</span> (unbuilt) │\n",
              "├──────────────────────────────────────┼─────────────────────────────┼─────────────────┤\n",
              "│ bidirectional_1 (<span style=\"color: #0087ff; text-decoration-color: #0087ff\">Bidirectional</span>)      │ ?                           │     <span style=\"color: #00af00; text-decoration-color: #00af00\">0</span> (unbuilt) │\n",
              "├──────────────────────────────────────┼─────────────────────────────┼─────────────────┤\n",
              "│ bidirectional_2 (<span style=\"color: #0087ff; text-decoration-color: #0087ff\">Bidirectional</span>)      │ ?                           │     <span style=\"color: #00af00; text-decoration-color: #00af00\">0</span> (unbuilt) │\n",
              "├──────────────────────────────────────┼─────────────────────────────┼─────────────────┤\n",
              "│ dense_4 (<span style=\"color: #0087ff; text-decoration-color: #0087ff\">Dense</span>)                      │ ?                           │     <span style=\"color: #00af00; text-decoration-color: #00af00\">0</span> (unbuilt) │\n",
              "├──────────────────────────────────────┼─────────────────────────────┼─────────────────┤\n",
              "│ dense_5 (<span style=\"color: #0087ff; text-decoration-color: #0087ff\">Dense</span>)                      │ ?                           │     <span style=\"color: #00af00; text-decoration-color: #00af00\">0</span> (unbuilt) │\n",
              "└──────────────────────────────────────┴─────────────────────────────┴─────────────────┘\n",
              "</pre>\n"
            ]
          },
          "metadata": {}
        },
        {
          "output_type": "display_data",
          "data": {
            "text/plain": [
              "\u001b[1m Total params: \u001b[0m\u001b[38;5;34m0\u001b[0m (0.00 B)\n"
            ],
            "text/html": [
              "<pre style=\"white-space:pre;overflow-x:auto;line-height:normal;font-family:Menlo,'DejaVu Sans Mono',consolas,'Courier New',monospace\"><span style=\"font-weight: bold\"> Total params: </span><span style=\"color: #00af00; text-decoration-color: #00af00\">0</span> (0.00 B)\n",
              "</pre>\n"
            ]
          },
          "metadata": {}
        },
        {
          "output_type": "display_data",
          "data": {
            "text/plain": [
              "\u001b[1m Trainable params: \u001b[0m\u001b[38;5;34m0\u001b[0m (0.00 B)\n"
            ],
            "text/html": [
              "<pre style=\"white-space:pre;overflow-x:auto;line-height:normal;font-family:Menlo,'DejaVu Sans Mono',consolas,'Courier New',monospace\"><span style=\"font-weight: bold\"> Trainable params: </span><span style=\"color: #00af00; text-decoration-color: #00af00\">0</span> (0.00 B)\n",
              "</pre>\n"
            ]
          },
          "metadata": {}
        },
        {
          "output_type": "display_data",
          "data": {
            "text/plain": [
              "\u001b[1m Non-trainable params: \u001b[0m\u001b[38;5;34m0\u001b[0m (0.00 B)\n"
            ],
            "text/html": [
              "<pre style=\"white-space:pre;overflow-x:auto;line-height:normal;font-family:Menlo,'DejaVu Sans Mono',consolas,'Courier New',monospace\"><span style=\"font-weight: bold\"> Non-trainable params: </span><span style=\"color: #00af00; text-decoration-color: #00af00\">0</span> (0.00 B)\n",
              "</pre>\n"
            ]
          },
          "metadata": {}
        }
      ]
    },
    {
      "cell_type": "code",
      "source": [
        "model.fit(X_train,y_train,epochs=2,batch_size=100,shuffle = True, validation_data=(X_test,y_test))"
      ],
      "metadata": {
        "colab": {
          "base_uri": "https://localhost:8080/"
        },
        "id": "fb4-G2oLWE0_",
        "outputId": "362934a9-26c5-4875-91ca-edfb4985698c"
      },
      "execution_count": null,
      "outputs": [
        {
          "output_type": "stream",
          "name": "stdout",
          "text": [
            "Epoch 1/2\n",
            "\u001b[1m350/350\u001b[0m \u001b[32m━━━━━━━━━━━━━━━━━━━━\u001b[0m\u001b[37m\u001b[0m \u001b[1m238s\u001b[0m 663ms/step - accuracy: 0.7377 - loss: 0.5077 - val_accuracy: 0.8145 - val_loss: 0.4030\n",
            "Epoch 2/2\n",
            "\u001b[1m350/350\u001b[0m \u001b[32m━━━━━━━━━━━━━━━━━━━━\u001b[0m\u001b[37m\u001b[0m \u001b[1m261s\u001b[0m 661ms/step - accuracy: 0.9296 - loss: 0.1892 - val_accuracy: 0.8373 - val_loss: 0.3892\n"
          ]
        },
        {
          "output_type": "execute_result",
          "data": {
            "text/plain": [
              "<keras.src.callbacks.history.History at 0x79165c34b2b0>"
            ]
          },
          "metadata": {},
          "execution_count": 35
        }
      ]
    },
    {
      "cell_type": "code",
      "source": [
        "score = model.evaluate(X_test,y_test)\n",
        "print(\"Accuracy:\",score[1]*100)"
      ],
      "metadata": {
        "id": "pQcmIJrKWExu",
        "colab": {
          "base_uri": "https://localhost:8080/"
        },
        "outputId": "9399b55a-308a-41c4-c84d-1f38126c3b93"
      },
      "execution_count": null,
      "outputs": [
        {
          "output_type": "stream",
          "name": "stdout",
          "text": [
            "\u001b[1m469/469\u001b[0m \u001b[32m━━━━━━━━━━━━━━━━━━━━\u001b[0m\u001b[37m\u001b[0m \u001b[1m42s\u001b[0m 89ms/step - accuracy: 0.8443 - loss: 0.3834\n",
            "Accuracy: 83.73333215713501\n"
          ]
        }
      ]
    },
    {
      "cell_type": "code",
      "source": [],
      "metadata": {
        "id": "EHSHv4RpWEou"
      },
      "execution_count": null,
      "outputs": []
    },
    {
      "cell_type": "code",
      "source": [],
      "metadata": {
        "id": "pBXwrfnVUOW5"
      },
      "execution_count": null,
      "outputs": []
    },
    {
      "cell_type": "code",
      "source": [],
      "metadata": {
        "id": "lF9MhJssUOY7"
      },
      "execution_count": null,
      "outputs": []
    }
  ]
}