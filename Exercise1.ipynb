{
  "nbformat": 4,
  "nbformat_minor": 0,
  "metadata": {
    "colab": {
      "provenance": [],
      "authorship_tag": "ABX9TyN2Z/AzGI+zrmzswrLDL7A0",
      "include_colab_link": true
    },
    "kernelspec": {
      "name": "python3",
      "display_name": "Python 3"
    },
    "language_info": {
      "name": "python"
    }
  },
  "cells": [
    {
      "cell_type": "markdown",
      "metadata": {
        "id": "view-in-github",
        "colab_type": "text"
      },
      "source": [
        "<a href=\"https://colab.research.google.com/github/Abdulhaseef1330/DATASCIENCE-ASSIGNMENT/blob/main/Exercise1.ipynb\" target=\"_parent\"><img src=\"https://colab.research.google.com/assets/colab-badge.svg\" alt=\"Open In Colab\"/></a>"
      ]
    },
    {
      "cell_type": "markdown",
      "source": [
        "The questions for the exercises are given above the cells and the expected output is given below the cell. Please type the code inserting a new cell below the question because if you run the expected output cell the output would vanish! Happy learning!.."
      ],
      "metadata": {
        "id": "vQtpjiJs7Hq8"
      }
    },
    {
      "cell_type": "markdown",
      "source": [
        "## 1. Write a Python program to count the number of even and odd numbers from a series of numbers."
      ],
      "metadata": {
        "id": "DHV8s-H07QR9"
      }
    },
    {
      "cell_type": "code",
      "execution_count": null,
      "metadata": {
        "id": "lratqQb166c0",
        "colab": {
          "base_uri": "https://localhost:8080/"
        },
        "outputId": "605df8eb-5bc5-41a1-d5a4-bf10432ce33d"
      },
      "outputs": [
        {
          "output_type": "stream",
          "name": "stdout",
          "text": [
            "Number of even numbers :  4\n",
            "Number of odd numbers :  5\n"
          ]
        }
      ],
      "source": [
        "numbers = [1,2,3,4,5,6,7,8,9]\n",
        "even = []\n",
        "odd = []\n",
        "for n in numbers:\n",
        "    if n%2 == 0:\n",
        "        even.append(n)\n",
        "    else:\n",
        "        odd.append(n)\n",
        "\n",
        "print(\"Number of even numbers : \",len(even))\n",
        "print(\"Number of odd numbers : \",len(odd))"
      ]
    },
    {
      "cell_type": "markdown",
      "source": [
        "## 2. Write a Python program to find numbers between 100 and 400 (both included) where each digit of a number is an even number. The numbers obtained should be printed in a comma-separated sequence."
      ],
      "metadata": {
        "id": "uivRkybDEE7-"
      }
    },
    {
      "cell_type": "code",
      "source": [
        "for x in range(100,401,2):\n",
        "  if x%2==0:\n",
        "    print(x ,end=',')"
      ],
      "metadata": {
        "id": "NSLisFVJ7D9w",
        "colab": {
          "base_uri": "https://localhost:8080/"
        },
        "outputId": "0d9d2ac0-8a76-4030-c1f5-3f2fb3220c1c"
      },
      "execution_count": null,
      "outputs": [
        {
          "output_type": "stream",
          "name": "stdout",
          "text": [
            "100,102,104,106,108,110,112,114,116,118,120,122,124,126,128,130,132,134,136,138,140,142,144,146,148,150,152,154,156,158,160,162,164,166,168,170,172,174,176,178,180,182,184,186,188,190,192,194,196,198,200,202,204,206,208,210,212,214,216,218,220,222,224,226,228,230,232,234,236,238,240,242,244,246,248,250,252,254,256,258,260,262,264,266,268,270,272,274,276,278,280,282,284,286,288,290,292,294,296,298,300,302,304,306,308,310,312,314,316,318,320,322,324,326,328,330,332,334,336,338,340,342,344,346,348,350,352,354,356,358,360,362,364,366,368,370,372,374,376,378,380,382,384,386,388,390,392,394,396,398,400,"
          ]
        }
      ]
    },
    {
      "cell_type": "markdown",
      "source": [
        "##3. Write a Python program to calculate a dog's age in dog's years. Go to the editor"
      ],
      "metadata": {
        "id": "tZSyoDFnG3MV"
      }
    },
    {
      "cell_type": "markdown",
      "source": [
        "Note: For the first two years, a dog year is equal to 10.5 human years. After that, each dog year equals 4 human years."
      ],
      "metadata": {
        "id": "g75dny2THBmq"
      }
    },
    {
      "cell_type": "code",
      "source": [
        "dog_age = int(input(\"Input a dog's age in human years: \"))\n",
        "if dog_age<=2:\n",
        "   human_age = dog_age*10.5\n",
        "else:\n",
        "   human_age = ((dog_age - 2) * 4) + 21\n",
        "print(\"The dog's age in dog's years is:\" , human_age)"
      ],
      "metadata": {
        "id": "fXanc_Zz7EAc",
        "colab": {
          "base_uri": "https://localhost:8080/"
        },
        "outputId": "8122f077-cba6-47d1-b6be-7319491f36d3"
      },
      "execution_count": null,
      "outputs": [
        {
          "output_type": "stream",
          "name": "stdout",
          "text": [
            "Input a dog's age in human years: 20\n",
            "The dog's age in dog's years is: 93\n"
          ]
        }
      ]
    },
    {
      "cell_type": "markdown",
      "source": [
        "## 4. Write a Python function to find the Max of three numbers."
      ],
      "metadata": {
        "id": "22exXjWMKHuL"
      }
    },
    {
      "cell_type": "code",
      "source": [
        "def max_of_three(a,b,c):\n",
        "    if a > b and a > c:\n",
        "        return a\n",
        "    elif b > c:\n",
        "        return b\n",
        "    else:\n",
        "        return c\n",
        "print(\"The Three numbers are: (3, 6, -5)\")\n",
        "print(max_of_three(3,6,-5))"
      ],
      "metadata": {
        "id": "XhEclQCj7ECp",
        "colab": {
          "base_uri": "https://localhost:8080/"
        },
        "outputId": "d7d191c7-e544-4e5c-c460-9b2570bee76c"
      },
      "execution_count": null,
      "outputs": [
        {
          "output_type": "stream",
          "name": "stdout",
          "text": [
            "The Three numbers are: (3, 6, -5)\n",
            "6\n"
          ]
        }
      ]
    },
    {
      "cell_type": "markdown",
      "source": [
        "## 5. Write a Python function that takes a number as a parameter and check the number is prime or not."
      ],
      "metadata": {
        "id": "T8Oc5m8TLcp7"
      }
    },
    {
      "cell_type": "code",
      "source": [
        "def check_prime(number):\n",
        "    for i in range(2,number//2+1):\n",
        "        if number%i==0:\n",
        "            return False\n",
        "    return True\n",
        "print(\"The number is: 9\")\n",
        "print(check_prime(9))"
      ],
      "metadata": {
        "id": "JbKgAl6K7EFA",
        "colab": {
          "base_uri": "https://localhost:8080/"
        },
        "outputId": "e539f78d-a14c-497f-979f-dea45f448995"
      },
      "execution_count": null,
      "outputs": [
        {
          "output_type": "stream",
          "name": "stdout",
          "text": [
            "The number is: 9\n",
            "False\n"
          ]
        }
      ]
    },
    {
      "cell_type": "markdown",
      "source": [
        "##6. Write a Python function that accepts a string and calculate the number of upper case letters and lower case letters. Go to the editor"
      ],
      "metadata": {
        "id": "lUVtrRI0N0Tf"
      }
    },
    {
      "cell_type": "code",
      "source": [
        "s=('Inceptz is One of The BeSt Places TO LEarn DataSciEnce')\n",
        "u = 0\n",
        "l = 0\n",
        "for i in s:\n",
        "  if i. isupper():\n",
        "    u=u+1\n",
        "  elif i. islower():\n",
        "    l=l+1\n",
        "print('original string:Inceptz is One of The BeSt Places TO LEarn DataSciEnce')\n",
        "print('No of upper case character : {}'. format (u))\n",
        "print('No of lower case character : {}'. format (l))"
      ],
      "metadata": {
        "id": "rBWjuFGT7EHS",
        "colab": {
          "base_uri": "https://localhost:8080/"
        },
        "outputId": "56cb36b2-6c3b-4322-8037-3298a4ac0fb2"
      },
      "execution_count": null,
      "outputs": [
        {
          "output_type": "stream",
          "name": "stdout",
          "text": [
            "original string:Inceptz is One of The BeSt Places TO LEarn DataSciEnce\n",
            "No of upper case character : 13\n",
            "No of lower case character : 32\n"
          ]
        }
      ]
    },
    {
      "cell_type": "markdown",
      "source": [
        "##7. Write a Python program to reverse a string."
      ],
      "metadata": {
        "id": "GE6H3fIpi7yu"
      }
    },
    {
      "cell_type": "code",
      "source": [
        "def reverse_string(str):\n",
        "  str1= \"\"\n",
        "  for i in str:\n",
        "    str1 = i + str1\n",
        "  return str1\n",
        "str =\"1234abcd\"\n",
        "print(\"The original string is :\", str )\n",
        "print(\"The reverse_string is :\", reverse_string(str))"
      ],
      "metadata": {
        "id": "h9p3EpyW7EJo",
        "colab": {
          "base_uri": "https://localhost:8080/"
        },
        "outputId": "699b9d33-c166-4e24-8cc4-7cb2f5b636d9"
      },
      "execution_count": null,
      "outputs": [
        {
          "output_type": "stream",
          "name": "stdout",
          "text": [
            "The original string is : 1234abcd\n",
            "The reverse_string is : dcba4321\n"
          ]
        }
      ]
    },
    {
      "cell_type": "markdown",
      "source": [
        "##8. Write a Python program to find the greatest common divisor (gcd) of two integers."
      ],
      "metadata": {
        "id": "qChr5oaMk6C_"
      }
    },
    {
      "cell_type": "code",
      "source": [
        "def two_numbers(number1,number2):\n",
        "    gcd = 0\n",
        "    for i in range(1,max(number1,number2)+1):\n",
        "        if number1%i==0 and number2%i==0:\n",
        "            gcd = i\n",
        "    return gcd\n",
        "print(\"The two numbers are: (12, 14)\")\n",
        "print(f\"The GCD of the numbers are {two_numbers(12,14)}\")"
      ],
      "metadata": {
        "id": "GmcYCI5T7EOS",
        "colab": {
          "base_uri": "https://localhost:8080/"
        },
        "outputId": "24f3cddd-a56b-4954-9318-4bc14abca1d0"
      },
      "execution_count": null,
      "outputs": [
        {
          "output_type": "stream",
          "name": "stdout",
          "text": [
            "The two numbers are: (12, 14)\n",
            "The GCD of the numbers are 2\n"
          ]
        }
      ]
    },
    {
      "cell_type": "code",
      "source": [],
      "metadata": {
        "id": "8cllnre97EQm"
      },
      "execution_count": null,
      "outputs": []
    },
    {
      "cell_type": "code",
      "source": [],
      "metadata": {
        "id": "1FSYGaa97ESl"
      },
      "execution_count": null,
      "outputs": []
    },
    {
      "cell_type": "code",
      "source": [],
      "metadata": {
        "id": "OOdPAPlN7EUs"
      },
      "execution_count": null,
      "outputs": []
    },
    {
      "cell_type": "code",
      "source": [],
      "metadata": {
        "id": "E4nav1117EXC"
      },
      "execution_count": null,
      "outputs": []
    },
    {
      "cell_type": "code",
      "source": [],
      "metadata": {
        "id": "BTFa8e2g7EZG"
      },
      "execution_count": null,
      "outputs": []
    }
  ]
}