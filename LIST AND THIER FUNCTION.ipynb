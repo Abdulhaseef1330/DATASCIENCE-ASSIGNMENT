{
 "cells": [
  {
   "cell_type": "code",
   "execution_count": 1,
   "id": "2f5987d6",
   "metadata": {},
   "outputs": [
    {
     "data": {
      "text/plain": [
       "['apple', 'orange', 'banana', 'mango']"
      ]
     },
     "execution_count": 1,
     "metadata": {},
     "output_type": "execute_result"
    }
   ],
   "source": [
    "fruit=['apple','orange','banana','mango']\n",
    "fruit"
   ]
  },
  {
   "cell_type": "markdown",
   "id": "648fc4fb",
   "metadata": {},
   "source": [
    "#APPEND"
   ]
  },
  {
   "cell_type": "code",
   "execution_count": 24,
   "id": "555859f3",
   "metadata": {},
   "outputs": [
    {
     "name": "stdout",
     "output_type": "stream",
     "text": [
      "Help on method_descriptor:\n",
      "\n",
      "append(self, object, /)\n",
      "    Append object to the end of the list.\n",
      "\n"
     ]
    }
   ],
   "source": [
    "help(list.append)"
   ]
  },
  {
   "cell_type": "code",
   "execution_count": 2,
   "id": "c7c9a1dd",
   "metadata": {},
   "outputs": [
    {
     "name": "stdout",
     "output_type": "stream",
     "text": [
      "['apple', 'orange', 'banana', 'mango', 'goa', 'fig']\n"
     ]
    }
   ],
   "source": [
    "fruit.append('goa')\n",
    "fruit.append('fig')\n",
    "print(fruit)"
   ]
  },
  {
   "cell_type": "markdown",
   "id": "6b28af7f",
   "metadata": {},
   "source": [
    "#REMOVE"
   ]
  },
  {
   "cell_type": "code",
   "execution_count": 25,
   "id": "c268f298",
   "metadata": {},
   "outputs": [
    {
     "name": "stdout",
     "output_type": "stream",
     "text": [
      "Help on method_descriptor:\n",
      "\n",
      "remove(self, value, /)\n",
      "    Remove first occurrence of value.\n",
      "    \n",
      "    Raises ValueError if the value is not present.\n",
      "\n"
     ]
    }
   ],
   "source": [
    "help(list.remove)"
   ]
  },
  {
   "cell_type": "code",
   "execution_count": 3,
   "id": "6fae59eb",
   "metadata": {},
   "outputs": [
    {
     "data": {
      "text/plain": [
       "['apple', 'orange', 'banana', 'mango', 'fig']"
      ]
     },
     "execution_count": 3,
     "metadata": {},
     "output_type": "execute_result"
    }
   ],
   "source": [
    "fruit.remove('goa')\n",
    "fruit"
   ]
  },
  {
   "cell_type": "markdown",
   "id": "d119a5d0",
   "metadata": {},
   "source": [
    "#REVERSE"
   ]
  },
  {
   "cell_type": "code",
   "execution_count": 26,
   "id": "68e4217d",
   "metadata": {},
   "outputs": [
    {
     "name": "stdout",
     "output_type": "stream",
     "text": [
      "Help on method_descriptor:\n",
      "\n",
      "reverse(self, /)\n",
      "    Reverse *IN PLACE*.\n",
      "\n"
     ]
    }
   ],
   "source": [
    "help(list.reverse)"
   ]
  },
  {
   "cell_type": "code",
   "execution_count": 4,
   "id": "517da991",
   "metadata": {
    "scrolled": true
   },
   "outputs": [
    {
     "name": "stdout",
     "output_type": "stream",
     "text": [
      "['fig', 'mango', 'banana', 'orange', 'apple']\n"
     ]
    }
   ],
   "source": [
    "fruit.reverse()\n",
    "print(fruit)"
   ]
  },
  {
   "cell_type": "markdown",
   "id": "96ae03ac",
   "metadata": {},
   "source": [
    "#SORT"
   ]
  },
  {
   "cell_type": "code",
   "execution_count": 27,
   "id": "0e4d6f51",
   "metadata": {},
   "outputs": [
    {
     "name": "stdout",
     "output_type": "stream",
     "text": [
      "Help on method_descriptor:\n",
      "\n",
      "sort(self, /, *, key=None, reverse=False)\n",
      "    Sort the list in ascending order and return None.\n",
      "    \n",
      "    The sort is in-place (i.e. the list itself is modified) and stable (i.e. the\n",
      "    order of two equal elements is maintained).\n",
      "    \n",
      "    If a key function is given, apply it once to each list item and sort them,\n",
      "    ascending or descending, according to their function values.\n",
      "    \n",
      "    The reverse flag can be set to sort in descending order.\n",
      "\n"
     ]
    }
   ],
   "source": [
    "help(list.sort)"
   ]
  },
  {
   "cell_type": "code",
   "execution_count": 5,
   "id": "784d2a2a",
   "metadata": {},
   "outputs": [
    {
     "name": "stdout",
     "output_type": "stream",
     "text": [
      "['apple', 'banana', 'fig', 'mango', 'orange']\n"
     ]
    }
   ],
   "source": [
    "fruit.sort()\n",
    "print(fruit)"
   ]
  },
  {
   "cell_type": "code",
   "execution_count": 6,
   "id": "173d1fb5",
   "metadata": {},
   "outputs": [
    {
     "name": "stdout",
     "output_type": "stream",
     "text": [
      "['apple', 'banana', 'fig', 'mango', 'orange', 'apple', 'apple']\n"
     ]
    }
   ],
   "source": [
    "fruit.append('apple')\n",
    "fruit.append('apple')\n",
    "print(fruit)"
   ]
  },
  {
   "cell_type": "markdown",
   "id": "7e346e5a",
   "metadata": {},
   "source": [
    "#COUNT"
   ]
  },
  {
   "cell_type": "code",
   "execution_count": 28,
   "id": "b84a6071",
   "metadata": {},
   "outputs": [
    {
     "name": "stdout",
     "output_type": "stream",
     "text": [
      "Help on method_descriptor:\n",
      "\n",
      "count(self, value, /)\n",
      "    Return number of occurrences of value.\n",
      "\n"
     ]
    }
   ],
   "source": [
    "help(list.count)"
   ]
  },
  {
   "cell_type": "code",
   "execution_count": 9,
   "id": "f34e4296",
   "metadata": {},
   "outputs": [
    {
     "data": {
      "text/plain": [
       "[1, 2, 3, 3, 3, 4, 2, 5, 3, 1, 5, 6, 4, 8, 6, 6]"
      ]
     },
     "execution_count": 9,
     "metadata": {},
     "output_type": "execute_result"
    }
   ],
   "source": [
    "lst =[1,2,3,3,3,4,2,5,3,1,5,6,4,8,6,6]\n",
    "lst"
   ]
  },
  {
   "cell_type": "code",
   "execution_count": 10,
   "id": "26685339",
   "metadata": {},
   "outputs": [
    {
     "data": {
      "text/plain": [
       "3"
      ]
     },
     "execution_count": 10,
     "metadata": {},
     "output_type": "execute_result"
    }
   ],
   "source": [
    "lst.count(6)"
   ]
  },
  {
   "cell_type": "code",
   "execution_count": 15,
   "id": "80a52bc8",
   "metadata": {},
   "outputs": [
    {
     "data": {
      "text/plain": [
       "[1, 2, 3, 4, 5]"
      ]
     },
     "execution_count": 15,
     "metadata": {},
     "output_type": "execute_result"
    }
   ],
   "source": [
    "lst =[1,2,3,4,5]\n",
    "lst"
   ]
  },
  {
   "cell_type": "markdown",
   "id": "7b46abd0",
   "metadata": {},
   "source": [
    "#INSERT"
   ]
  },
  {
   "cell_type": "code",
   "execution_count": 29,
   "id": "664643e0",
   "metadata": {},
   "outputs": [
    {
     "name": "stdout",
     "output_type": "stream",
     "text": [
      "Help on method_descriptor:\n",
      "\n",
      "insert(self, index, object, /)\n",
      "    Insert object before index.\n",
      "\n"
     ]
    }
   ],
   "source": [
    "help(list.insert)"
   ]
  },
  {
   "cell_type": "code",
   "execution_count": 16,
   "id": "afd7498d",
   "metadata": {},
   "outputs": [
    {
     "data": {
      "text/plain": [
       "[1, 2, 3, 4, 5, 7]"
      ]
     },
     "execution_count": 16,
     "metadata": {},
     "output_type": "execute_result"
    }
   ],
   "source": [
    "lst.insert(6,7)\n",
    "lst"
   ]
  },
  {
   "cell_type": "markdown",
   "id": "d7e6b225",
   "metadata": {},
   "source": [
    "#POP"
   ]
  },
  {
   "cell_type": "code",
   "execution_count": 30,
   "id": "ea5edc5b",
   "metadata": {},
   "outputs": [
    {
     "name": "stdout",
     "output_type": "stream",
     "text": [
      "Help on method_descriptor:\n",
      "\n",
      "pop(self, index=-1, /)\n",
      "    Remove and return item at index (default last).\n",
      "    \n",
      "    Raises IndexError if list is empty or index is out of range.\n",
      "\n"
     ]
    }
   ],
   "source": [
    "help(list.pop)"
   ]
  },
  {
   "cell_type": "code",
   "execution_count": 17,
   "id": "0210803a",
   "metadata": {},
   "outputs": [
    {
     "data": {
      "text/plain": [
       "[1, 3, 4, 5, 7]"
      ]
     },
     "execution_count": 17,
     "metadata": {},
     "output_type": "execute_result"
    }
   ],
   "source": [
    "lst.pop(1)\n",
    "lst"
   ]
  },
  {
   "cell_type": "markdown",
   "id": "9081a5c8",
   "metadata": {},
   "source": [
    "#CLEAR"
   ]
  },
  {
   "cell_type": "code",
   "execution_count": 31,
   "id": "f82b7195",
   "metadata": {},
   "outputs": [
    {
     "name": "stdout",
     "output_type": "stream",
     "text": [
      "Help on method_descriptor:\n",
      "\n",
      "clear(self, /)\n",
      "    Remove all items from list.\n",
      "\n"
     ]
    }
   ],
   "source": [
    "help(list.clear)"
   ]
  },
  {
   "cell_type": "code",
   "execution_count": 18,
   "id": "ea737b14",
   "metadata": {},
   "outputs": [
    {
     "name": "stdout",
     "output_type": "stream",
     "text": [
      "[]\n"
     ]
    }
   ],
   "source": [
    "lst.clear()\n",
    "print(lst)"
   ]
  },
  {
   "cell_type": "markdown",
   "id": "0010c4f2",
   "metadata": {},
   "source": [
    "#COPY"
   ]
  },
  {
   "cell_type": "code",
   "execution_count": 32,
   "id": "675ef272",
   "metadata": {},
   "outputs": [
    {
     "name": "stdout",
     "output_type": "stream",
     "text": [
      "Help on method_descriptor:\n",
      "\n",
      "copy(self, /)\n",
      "    Return a shallow copy of the list.\n",
      "\n"
     ]
    }
   ],
   "source": [
    "help(list.copy)"
   ]
  },
  {
   "cell_type": "code",
   "execution_count": 19,
   "id": "3f67ba12",
   "metadata": {},
   "outputs": [
    {
     "name": "stdout",
     "output_type": "stream",
     "text": [
      "[1, 2, 3, 4, 5]\n"
     ]
    }
   ],
   "source": [
    "lst=[1,2,3,4,5]\n",
    "lst1=lst.copy()\n",
    "print(lst1)"
   ]
  },
  {
   "cell_type": "markdown",
   "id": "3a3bf25f",
   "metadata": {},
   "source": [
    "#EXTEND"
   ]
  },
  {
   "cell_type": "code",
   "execution_count": 33,
   "id": "e91d9fa8",
   "metadata": {},
   "outputs": [
    {
     "name": "stdout",
     "output_type": "stream",
     "text": [
      "Help on method_descriptor:\n",
      "\n",
      "extend(self, iterable, /)\n",
      "    Extend list by appending elements from the iterable.\n",
      "\n"
     ]
    }
   ],
   "source": [
    "help(list.extend)"
   ]
  },
  {
   "cell_type": "code",
   "execution_count": 21,
   "id": "8c581146",
   "metadata": {},
   "outputs": [
    {
     "name": "stdout",
     "output_type": "stream",
     "text": [
      "[1, 2, 3, 4, 5, 6, 7, 8]\n"
     ]
    }
   ],
   "source": [
    "lst=[1,2,3,4]\n",
    "lst1=[5,6,7,8]\n",
    "lst.extend(lst1)\n",
    "print(lst)"
   ]
  },
  {
   "cell_type": "markdown",
   "id": "e2f743c9",
   "metadata": {},
   "source": [
    "#INDEX"
   ]
  },
  {
   "cell_type": "code",
   "execution_count": 34,
   "id": "d3ba81be",
   "metadata": {},
   "outputs": [
    {
     "name": "stdout",
     "output_type": "stream",
     "text": [
      "Help on method_descriptor:\n",
      "\n",
      "index(self, value, start=0, stop=9223372036854775807, /)\n",
      "    Return first index of value.\n",
      "    \n",
      "    Raises ValueError if the value is not present.\n",
      "\n"
     ]
    }
   ],
   "source": [
    "help(list.index)"
   ]
  },
  {
   "cell_type": "code",
   "execution_count": 22,
   "id": "b8b48e3b",
   "metadata": {},
   "outputs": [
    {
     "data": {
      "text/plain": [
       "2"
      ]
     },
     "execution_count": 22,
     "metadata": {},
     "output_type": "execute_result"
    }
   ],
   "source": [
    "lst.index(3)"
   ]
  },
  {
   "cell_type": "code",
   "execution_count": null,
   "id": "c831aa04",
   "metadata": {},
   "outputs": [],
   "source": []
  }
 ],
 "metadata": {
  "kernelspec": {
   "display_name": "Python 3 (ipykernel)",
   "language": "python",
   "name": "python3"
  },
  "language_info": {
   "codemirror_mode": {
    "name": "ipython",
    "version": 3
   },
   "file_extension": ".py",
   "mimetype": "text/x-python",
   "name": "python",
   "nbconvert_exporter": "python",
   "pygments_lexer": "ipython3",
   "version": "3.11.5"
  }
 },
 "nbformat": 4,
 "nbformat_minor": 5
}
